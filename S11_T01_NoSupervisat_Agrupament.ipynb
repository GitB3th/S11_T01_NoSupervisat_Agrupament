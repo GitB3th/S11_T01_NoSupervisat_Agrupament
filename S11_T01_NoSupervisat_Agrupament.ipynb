{
 "cells": [
  {
   "cell_type": "markdown",
   "id": "a514bf4e",
   "metadata": {},
   "source": [
    "# S11_T01_NoSupervisat_Agrupament\n",
    "\n",
    "### Ex1: Agrupa els diferents vols utilitzant l'algorisme de K-means\n"
   ]
  },
  {
   "cell_type": "code",
   "execution_count": 2,
   "id": "60777cf4",
   "metadata": {
    "ExecuteTime": {
     "end_time": "2022-06-10T12:37:23.819551Z",
     "start_time": "2022-06-10T12:36:42.705778Z"
    }
   },
   "outputs": [],
   "source": [
    "#Importem llibreries necessàries\n",
    "import numpy as np\n",
    "import pandas as pd\n",
    "import matplotlib.pyplot as plt\n",
    "import seaborn as sns\n",
    "import matplotlib.pyplot as plt\n",
    "from sklearn.datasets import make_blobs\n",
    "from sklearn.cluster import KMeans\n",
    "from sklearn.metrics import silhouette_score\n",
    "from sklearn.preprocessing import StandardScaler"
   ]
  },
  {
   "cell_type": "code",
   "execution_count": 3,
   "id": "6db6a3f8",
   "metadata": {
    "ExecuteTime": {
     "end_time": "2022-06-10T12:37:23.850613Z",
     "start_time": "2022-06-10T12:37:23.819551Z"
    }
   },
   "outputs": [],
   "source": [
    "import warnings\n",
    "\n",
    "warnings.filterwarnings('ignore')"
   ]
  },
  {
   "cell_type": "code",
   "execution_count": 4,
   "id": "a07ed1dc",
   "metadata": {
    "ExecuteTime": {
     "end_time": "2022-06-10T12:37:30.249574Z",
     "start_time": "2022-06-10T12:37:23.856595Z"
    }
   },
   "outputs": [
    {
     "data": {
      "text/html": [
       "<div>\n",
       "<style scoped>\n",
       "    .dataframe tbody tr th:only-of-type {\n",
       "        vertical-align: middle;\n",
       "    }\n",
       "\n",
       "    .dataframe tbody tr th {\n",
       "        vertical-align: top;\n",
       "    }\n",
       "\n",
       "    .dataframe thead th {\n",
       "        text-align: right;\n",
       "    }\n",
       "</style>\n",
       "<table border=\"1\" class=\"dataframe\">\n",
       "  <thead>\n",
       "    <tr style=\"text-align: right;\">\n",
       "      <th></th>\n",
       "      <th>Unnamed: 0</th>\n",
       "      <th>Year</th>\n",
       "      <th>Month</th>\n",
       "      <th>DayofMonth</th>\n",
       "      <th>DayOfWeek</th>\n",
       "      <th>DepTime</th>\n",
       "      <th>CRSDepTime</th>\n",
       "      <th>ArrTime</th>\n",
       "      <th>CRSArrTime</th>\n",
       "      <th>UniqueCarrier</th>\n",
       "      <th>FlightNum</th>\n",
       "      <th>TailNum</th>\n",
       "      <th>ActualElapsedTime</th>\n",
       "      <th>CRSElapsedTime</th>\n",
       "      <th>AirTime</th>\n",
       "      <th>ArrDelay</th>\n",
       "      <th>DepDelay</th>\n",
       "      <th>Origin</th>\n",
       "      <th>Dest</th>\n",
       "      <th>Distance</th>\n",
       "      <th>TaxiIn</th>\n",
       "      <th>TaxiOut</th>\n",
       "      <th>Cancelled</th>\n",
       "      <th>CancellationCode</th>\n",
       "      <th>Diverted</th>\n",
       "      <th>CarrierDelay</th>\n",
       "      <th>WeatherDelay</th>\n",
       "      <th>NASDelay</th>\n",
       "      <th>SecurityDelay</th>\n",
       "      <th>LateAircraftDelay</th>\n",
       "    </tr>\n",
       "  </thead>\n",
       "  <tbody>\n",
       "    <tr>\n",
       "      <th>0</th>\n",
       "      <td>0</td>\n",
       "      <td>2008</td>\n",
       "      <td>1</td>\n",
       "      <td>3</td>\n",
       "      <td>4</td>\n",
       "      <td>2003.0</td>\n",
       "      <td>1955</td>\n",
       "      <td>2211.0</td>\n",
       "      <td>2225</td>\n",
       "      <td>WN</td>\n",
       "      <td>335</td>\n",
       "      <td>N712SW</td>\n",
       "      <td>128.0</td>\n",
       "      <td>150.0</td>\n",
       "      <td>116.0</td>\n",
       "      <td>-14.0</td>\n",
       "      <td>8.0</td>\n",
       "      <td>IAD</td>\n",
       "      <td>TPA</td>\n",
       "      <td>810</td>\n",
       "      <td>4.0</td>\n",
       "      <td>8.0</td>\n",
       "      <td>0</td>\n",
       "      <td>N</td>\n",
       "      <td>0</td>\n",
       "      <td>NaN</td>\n",
       "      <td>NaN</td>\n",
       "      <td>NaN</td>\n",
       "      <td>NaN</td>\n",
       "      <td>NaN</td>\n",
       "    </tr>\n",
       "    <tr>\n",
       "      <th>1</th>\n",
       "      <td>1</td>\n",
       "      <td>2008</td>\n",
       "      <td>1</td>\n",
       "      <td>3</td>\n",
       "      <td>4</td>\n",
       "      <td>754.0</td>\n",
       "      <td>735</td>\n",
       "      <td>1002.0</td>\n",
       "      <td>1000</td>\n",
       "      <td>WN</td>\n",
       "      <td>3231</td>\n",
       "      <td>N772SW</td>\n",
       "      <td>128.0</td>\n",
       "      <td>145.0</td>\n",
       "      <td>113.0</td>\n",
       "      <td>2.0</td>\n",
       "      <td>19.0</td>\n",
       "      <td>IAD</td>\n",
       "      <td>TPA</td>\n",
       "      <td>810</td>\n",
       "      <td>5.0</td>\n",
       "      <td>10.0</td>\n",
       "      <td>0</td>\n",
       "      <td>N</td>\n",
       "      <td>0</td>\n",
       "      <td>NaN</td>\n",
       "      <td>NaN</td>\n",
       "      <td>NaN</td>\n",
       "      <td>NaN</td>\n",
       "      <td>NaN</td>\n",
       "    </tr>\n",
       "    <tr>\n",
       "      <th>2</th>\n",
       "      <td>2</td>\n",
       "      <td>2008</td>\n",
       "      <td>1</td>\n",
       "      <td>3</td>\n",
       "      <td>4</td>\n",
       "      <td>628.0</td>\n",
       "      <td>620</td>\n",
       "      <td>804.0</td>\n",
       "      <td>750</td>\n",
       "      <td>WN</td>\n",
       "      <td>448</td>\n",
       "      <td>N428WN</td>\n",
       "      <td>96.0</td>\n",
       "      <td>90.0</td>\n",
       "      <td>76.0</td>\n",
       "      <td>14.0</td>\n",
       "      <td>8.0</td>\n",
       "      <td>IND</td>\n",
       "      <td>BWI</td>\n",
       "      <td>515</td>\n",
       "      <td>3.0</td>\n",
       "      <td>17.0</td>\n",
       "      <td>0</td>\n",
       "      <td>N</td>\n",
       "      <td>0</td>\n",
       "      <td>NaN</td>\n",
       "      <td>NaN</td>\n",
       "      <td>NaN</td>\n",
       "      <td>NaN</td>\n",
       "      <td>NaN</td>\n",
       "    </tr>\n",
       "    <tr>\n",
       "      <th>3</th>\n",
       "      <td>4</td>\n",
       "      <td>2008</td>\n",
       "      <td>1</td>\n",
       "      <td>3</td>\n",
       "      <td>4</td>\n",
       "      <td>1829.0</td>\n",
       "      <td>1755</td>\n",
       "      <td>1959.0</td>\n",
       "      <td>1925</td>\n",
       "      <td>WN</td>\n",
       "      <td>3920</td>\n",
       "      <td>N464WN</td>\n",
       "      <td>90.0</td>\n",
       "      <td>90.0</td>\n",
       "      <td>77.0</td>\n",
       "      <td>34.0</td>\n",
       "      <td>34.0</td>\n",
       "      <td>IND</td>\n",
       "      <td>BWI</td>\n",
       "      <td>515</td>\n",
       "      <td>3.0</td>\n",
       "      <td>10.0</td>\n",
       "      <td>0</td>\n",
       "      <td>N</td>\n",
       "      <td>0</td>\n",
       "      <td>2.0</td>\n",
       "      <td>0.0</td>\n",
       "      <td>0.0</td>\n",
       "      <td>0.0</td>\n",
       "      <td>32.0</td>\n",
       "    </tr>\n",
       "    <tr>\n",
       "      <th>4</th>\n",
       "      <td>5</td>\n",
       "      <td>2008</td>\n",
       "      <td>1</td>\n",
       "      <td>3</td>\n",
       "      <td>4</td>\n",
       "      <td>1940.0</td>\n",
       "      <td>1915</td>\n",
       "      <td>2121.0</td>\n",
       "      <td>2110</td>\n",
       "      <td>WN</td>\n",
       "      <td>378</td>\n",
       "      <td>N726SW</td>\n",
       "      <td>101.0</td>\n",
       "      <td>115.0</td>\n",
       "      <td>87.0</td>\n",
       "      <td>11.0</td>\n",
       "      <td>25.0</td>\n",
       "      <td>IND</td>\n",
       "      <td>JAX</td>\n",
       "      <td>688</td>\n",
       "      <td>4.0</td>\n",
       "      <td>10.0</td>\n",
       "      <td>0</td>\n",
       "      <td>N</td>\n",
       "      <td>0</td>\n",
       "      <td>NaN</td>\n",
       "      <td>NaN</td>\n",
       "      <td>NaN</td>\n",
       "      <td>NaN</td>\n",
       "      <td>NaN</td>\n",
       "    </tr>\n",
       "  </tbody>\n",
       "</table>\n",
       "</div>"
      ],
      "text/plain": [
       "   Unnamed: 0  Year  Month  DayofMonth  DayOfWeek  DepTime  CRSDepTime  \\\n",
       "0           0  2008      1           3          4   2003.0        1955   \n",
       "1           1  2008      1           3          4    754.0         735   \n",
       "2           2  2008      1           3          4    628.0         620   \n",
       "3           4  2008      1           3          4   1829.0        1755   \n",
       "4           5  2008      1           3          4   1940.0        1915   \n",
       "\n",
       "   ArrTime  CRSArrTime UniqueCarrier  FlightNum TailNum  ActualElapsedTime  \\\n",
       "0   2211.0        2225            WN        335  N712SW              128.0   \n",
       "1   1002.0        1000            WN       3231  N772SW              128.0   \n",
       "2    804.0         750            WN        448  N428WN               96.0   \n",
       "3   1959.0        1925            WN       3920  N464WN               90.0   \n",
       "4   2121.0        2110            WN        378  N726SW              101.0   \n",
       "\n",
       "   CRSElapsedTime  AirTime  ArrDelay  DepDelay Origin Dest  Distance  TaxiIn  \\\n",
       "0           150.0    116.0     -14.0       8.0    IAD  TPA       810     4.0   \n",
       "1           145.0    113.0       2.0      19.0    IAD  TPA       810     5.0   \n",
       "2            90.0     76.0      14.0       8.0    IND  BWI       515     3.0   \n",
       "3            90.0     77.0      34.0      34.0    IND  BWI       515     3.0   \n",
       "4           115.0     87.0      11.0      25.0    IND  JAX       688     4.0   \n",
       "\n",
       "   TaxiOut  Cancelled CancellationCode  Diverted  CarrierDelay  WeatherDelay  \\\n",
       "0      8.0          0                N         0           NaN           NaN   \n",
       "1     10.0          0                N         0           NaN           NaN   \n",
       "2     17.0          0                N         0           NaN           NaN   \n",
       "3     10.0          0                N         0           2.0           0.0   \n",
       "4     10.0          0                N         0           NaN           NaN   \n",
       "\n",
       "   NASDelay  SecurityDelay  LateAircraftDelay  \n",
       "0       NaN            NaN                NaN  \n",
       "1       NaN            NaN                NaN  \n",
       "2       NaN            NaN                NaN  \n",
       "3       0.0            0.0               32.0  \n",
       "4       NaN            NaN                NaN  "
      ]
     },
     "execution_count": 4,
     "metadata": {},
     "output_type": "execute_result"
    }
   ],
   "source": [
    "#import dataset\n",
    "pd.set_option(\"display.max_columns\", None)\n",
    "data_frame = pd.read_csv(\"C:/Users/Beth/Python_Projects/Tasks_Sprint2/Task5/DelayedFlights.csv\")\n",
    "#Previsualitzem dataset\n",
    "data_frame.head()"
   ]
  },
  {
   "cell_type": "code",
   "execution_count": 5,
   "id": "63834044",
   "metadata": {
    "ExecuteTime": {
     "end_time": "2022-06-10T12:37:30.265532Z",
     "start_time": "2022-06-10T12:37:30.252567Z"
    }
   },
   "outputs": [
    {
     "data": {
      "text/plain": [
       "(1936758, 30)"
      ]
     },
     "execution_count": 5,
     "metadata": {},
     "output_type": "execute_result"
    }
   ],
   "source": [
    "data_frame.shape"
   ]
  },
  {
   "cell_type": "code",
   "execution_count": 6,
   "id": "30ff9a1c",
   "metadata": {
    "ExecuteTime": {
     "end_time": "2022-06-10T12:37:30.377233Z",
     "start_time": "2022-06-10T12:37:30.267525Z"
    }
   },
   "outputs": [
    {
     "name": "stdout",
     "output_type": "stream",
     "text": [
      "<class 'pandas.core.frame.DataFrame'>\n",
      "RangeIndex: 1936758 entries, 0 to 1936757\n",
      "Data columns (total 30 columns):\n",
      " #   Column             Dtype  \n",
      "---  ------             -----  \n",
      " 0   Unnamed: 0         int64  \n",
      " 1   Year               int64  \n",
      " 2   Month              int64  \n",
      " 3   DayofMonth         int64  \n",
      " 4   DayOfWeek          int64  \n",
      " 5   DepTime            float64\n",
      " 6   CRSDepTime         int64  \n",
      " 7   ArrTime            float64\n",
      " 8   CRSArrTime         int64  \n",
      " 9   UniqueCarrier      object \n",
      " 10  FlightNum          int64  \n",
      " 11  TailNum            object \n",
      " 12  ActualElapsedTime  float64\n",
      " 13  CRSElapsedTime     float64\n",
      " 14  AirTime            float64\n",
      " 15  ArrDelay           float64\n",
      " 16  DepDelay           float64\n",
      " 17  Origin             object \n",
      " 18  Dest               object \n",
      " 19  Distance           int64  \n",
      " 20  TaxiIn             float64\n",
      " 21  TaxiOut            float64\n",
      " 22  Cancelled          int64  \n",
      " 23  CancellationCode   object \n",
      " 24  Diverted           int64  \n",
      " 25  CarrierDelay       float64\n",
      " 26  WeatherDelay       float64\n",
      " 27  NASDelay           float64\n",
      " 28  SecurityDelay      float64\n",
      " 29  LateAircraftDelay  float64\n",
      "dtypes: float64(14), int64(11), object(5)\n",
      "memory usage: 443.3+ MB\n"
     ]
    }
   ],
   "source": [
    "#resum del dataset\n",
    "data_frame.info()"
   ]
  },
  {
   "cell_type": "markdown",
   "id": "621e1a6e",
   "metadata": {},
   "source": [
    "Tenim 25 variables numèriques (tipus int64 o float64) i 5 variables categòriques (tipus objecte)"
   ]
  },
  {
   "cell_type": "code",
   "execution_count": 7,
   "id": "a0b71659",
   "metadata": {
    "ExecuteTime": {
     "end_time": "2022-06-10T12:37:30.903846Z",
     "start_time": "2022-06-10T12:37:30.379227Z"
    }
   },
   "outputs": [
    {
     "data": {
      "text/plain": [
       "Unnamed: 0                0\n",
       "Year                      0\n",
       "Month                     0\n",
       "DayofMonth                0\n",
       "DayOfWeek                 0\n",
       "DepTime                   0\n",
       "CRSDepTime                0\n",
       "ArrTime                7110\n",
       "CRSArrTime                0\n",
       "UniqueCarrier             0\n",
       "FlightNum                 0\n",
       "TailNum                   5\n",
       "ActualElapsedTime      8387\n",
       "CRSElapsedTime          198\n",
       "AirTime                8387\n",
       "ArrDelay               8387\n",
       "DepDelay                  0\n",
       "Origin                    0\n",
       "Dest                      0\n",
       "Distance                  0\n",
       "TaxiIn                 7110\n",
       "TaxiOut                 455\n",
       "Cancelled                 0\n",
       "CancellationCode          0\n",
       "Diverted                  0\n",
       "CarrierDelay         689270\n",
       "WeatherDelay         689270\n",
       "NASDelay             689270\n",
       "SecurityDelay        689270\n",
       "LateAircraftDelay    689270\n",
       "dtype: int64"
      ]
     },
     "execution_count": 7,
     "metadata": {},
     "output_type": "execute_result"
    }
   ],
   "source": [
    "#comprovem valors nuls\n",
    "data_frame.isnull().sum()"
   ]
  },
  {
   "cell_type": "code",
   "execution_count": 8,
   "id": "1c958b6b",
   "metadata": {
    "ExecuteTime": {
     "end_time": "2022-06-10T12:37:34.487275Z",
     "start_time": "2022-06-10T12:37:30.905840Z"
    }
   },
   "outputs": [
    {
     "data": {
      "text/plain": [
       "0"
      ]
     },
     "execution_count": 8,
     "metadata": {},
     "output_type": "execute_result"
    }
   ],
   "source": [
    "#comprovem duplicates i si n'hi ha els eliminem\n",
    "sum(data_frame.duplicated())"
   ]
  },
  {
   "cell_type": "code",
   "execution_count": 9,
   "id": "86d91cad",
   "metadata": {
    "ExecuteTime": {
     "end_time": "2022-06-10T12:37:34.720690Z",
     "start_time": "2022-06-10T12:37:34.489239Z"
    }
   },
   "outputs": [],
   "source": [
    "#eliminem la columna \"Unnamed:0\" ja que no la necessitem per res\n",
    "data_frame.drop([\"Unnamed: 0\"], axis=1, inplace=True)"
   ]
  },
  {
   "cell_type": "code",
   "execution_count": null,
   "id": "506d8c00",
   "metadata": {},
   "outputs": [],
   "source": []
  },
  {
   "cell_type": "code",
   "execution_count": 10,
   "id": "171034b2",
   "metadata": {
    "ExecuteTime": {
     "end_time": "2022-06-10T12:37:36.428283Z",
     "start_time": "2022-06-10T12:37:34.724684Z"
    },
    "scrolled": true
   },
   "outputs": [
    {
     "data": {
      "text/html": [
       "<div>\n",
       "<style scoped>\n",
       "    .dataframe tbody tr th:only-of-type {\n",
       "        vertical-align: middle;\n",
       "    }\n",
       "\n",
       "    .dataframe tbody tr th {\n",
       "        vertical-align: top;\n",
       "    }\n",
       "\n",
       "    .dataframe thead th {\n",
       "        text-align: right;\n",
       "    }\n",
       "</style>\n",
       "<table border=\"1\" class=\"dataframe\">\n",
       "  <thead>\n",
       "    <tr style=\"text-align: right;\">\n",
       "      <th></th>\n",
       "      <th>Year</th>\n",
       "      <th>Month</th>\n",
       "      <th>DayofMonth</th>\n",
       "      <th>DayOfWeek</th>\n",
       "      <th>DepTime</th>\n",
       "      <th>CRSDepTime</th>\n",
       "      <th>ArrTime</th>\n",
       "      <th>CRSArrTime</th>\n",
       "      <th>FlightNum</th>\n",
       "      <th>ActualElapsedTime</th>\n",
       "      <th>CRSElapsedTime</th>\n",
       "      <th>AirTime</th>\n",
       "      <th>ArrDelay</th>\n",
       "      <th>DepDelay</th>\n",
       "      <th>Distance</th>\n",
       "      <th>TaxiIn</th>\n",
       "      <th>TaxiOut</th>\n",
       "      <th>Cancelled</th>\n",
       "      <th>Diverted</th>\n",
       "      <th>CarrierDelay</th>\n",
       "      <th>WeatherDelay</th>\n",
       "      <th>NASDelay</th>\n",
       "      <th>SecurityDelay</th>\n",
       "      <th>LateAircraftDelay</th>\n",
       "    </tr>\n",
       "  </thead>\n",
       "  <tbody>\n",
       "    <tr>\n",
       "      <th>count</th>\n",
       "      <td>1936758.0</td>\n",
       "      <td>1.936758e+06</td>\n",
       "      <td>1.936758e+06</td>\n",
       "      <td>1.936758e+06</td>\n",
       "      <td>1.936758e+06</td>\n",
       "      <td>1.936758e+06</td>\n",
       "      <td>1.929648e+06</td>\n",
       "      <td>1.936758e+06</td>\n",
       "      <td>1.936758e+06</td>\n",
       "      <td>1.928371e+06</td>\n",
       "      <td>1.936560e+06</td>\n",
       "      <td>1.928371e+06</td>\n",
       "      <td>1.928371e+06</td>\n",
       "      <td>1.936758e+06</td>\n",
       "      <td>1.936758e+06</td>\n",
       "      <td>1.929648e+06</td>\n",
       "      <td>1.936303e+06</td>\n",
       "      <td>1.936758e+06</td>\n",
       "      <td>1.936758e+06</td>\n",
       "      <td>1.247488e+06</td>\n",
       "      <td>1.247488e+06</td>\n",
       "      <td>1.247488e+06</td>\n",
       "      <td>1.247488e+06</td>\n",
       "      <td>1.247488e+06</td>\n",
       "    </tr>\n",
       "    <tr>\n",
       "      <th>mean</th>\n",
       "      <td>2008.0</td>\n",
       "      <td>6.111106e+00</td>\n",
       "      <td>1.575347e+01</td>\n",
       "      <td>3.984827e+00</td>\n",
       "      <td>1.518534e+03</td>\n",
       "      <td>1.467473e+03</td>\n",
       "      <td>1.610141e+03</td>\n",
       "      <td>1.634225e+03</td>\n",
       "      <td>2.184263e+03</td>\n",
       "      <td>1.333059e+02</td>\n",
       "      <td>1.343027e+02</td>\n",
       "      <td>1.082771e+02</td>\n",
       "      <td>4.219988e+01</td>\n",
       "      <td>4.318518e+01</td>\n",
       "      <td>7.656862e+02</td>\n",
       "      <td>6.812975e+00</td>\n",
       "      <td>1.823220e+01</td>\n",
       "      <td>3.268348e-04</td>\n",
       "      <td>4.003598e-03</td>\n",
       "      <td>1.917940e+01</td>\n",
       "      <td>3.703571e+00</td>\n",
       "      <td>1.502164e+01</td>\n",
       "      <td>9.013714e-02</td>\n",
       "      <td>2.529647e+01</td>\n",
       "    </tr>\n",
       "    <tr>\n",
       "      <th>std</th>\n",
       "      <td>0.0</td>\n",
       "      <td>3.482546e+00</td>\n",
       "      <td>8.776272e+00</td>\n",
       "      <td>1.995966e+00</td>\n",
       "      <td>4.504853e+02</td>\n",
       "      <td>4.247668e+02</td>\n",
       "      <td>5.481781e+02</td>\n",
       "      <td>4.646347e+02</td>\n",
       "      <td>1.944702e+03</td>\n",
       "      <td>7.206007e+01</td>\n",
       "      <td>7.134144e+01</td>\n",
       "      <td>6.864261e+01</td>\n",
       "      <td>5.678472e+01</td>\n",
       "      <td>5.340250e+01</td>\n",
       "      <td>5.744797e+02</td>\n",
       "      <td>5.273595e+00</td>\n",
       "      <td>1.433853e+01</td>\n",
       "      <td>1.807562e-02</td>\n",
       "      <td>6.314722e-02</td>\n",
       "      <td>4.354621e+01</td>\n",
       "      <td>2.149290e+01</td>\n",
       "      <td>3.383305e+01</td>\n",
       "      <td>2.022714e+00</td>\n",
       "      <td>4.205486e+01</td>\n",
       "    </tr>\n",
       "    <tr>\n",
       "      <th>min</th>\n",
       "      <td>2008.0</td>\n",
       "      <td>1.000000e+00</td>\n",
       "      <td>1.000000e+00</td>\n",
       "      <td>1.000000e+00</td>\n",
       "      <td>1.000000e+00</td>\n",
       "      <td>0.000000e+00</td>\n",
       "      <td>1.000000e+00</td>\n",
       "      <td>0.000000e+00</td>\n",
       "      <td>1.000000e+00</td>\n",
       "      <td>1.400000e+01</td>\n",
       "      <td>-2.500000e+01</td>\n",
       "      <td>0.000000e+00</td>\n",
       "      <td>-1.090000e+02</td>\n",
       "      <td>6.000000e+00</td>\n",
       "      <td>1.100000e+01</td>\n",
       "      <td>0.000000e+00</td>\n",
       "      <td>0.000000e+00</td>\n",
       "      <td>0.000000e+00</td>\n",
       "      <td>0.000000e+00</td>\n",
       "      <td>0.000000e+00</td>\n",
       "      <td>0.000000e+00</td>\n",
       "      <td>0.000000e+00</td>\n",
       "      <td>0.000000e+00</td>\n",
       "      <td>0.000000e+00</td>\n",
       "    </tr>\n",
       "    <tr>\n",
       "      <th>25%</th>\n",
       "      <td>2008.0</td>\n",
       "      <td>3.000000e+00</td>\n",
       "      <td>8.000000e+00</td>\n",
       "      <td>2.000000e+00</td>\n",
       "      <td>1.203000e+03</td>\n",
       "      <td>1.135000e+03</td>\n",
       "      <td>1.316000e+03</td>\n",
       "      <td>1.325000e+03</td>\n",
       "      <td>6.100000e+02</td>\n",
       "      <td>8.000000e+01</td>\n",
       "      <td>8.200000e+01</td>\n",
       "      <td>5.800000e+01</td>\n",
       "      <td>9.000000e+00</td>\n",
       "      <td>1.200000e+01</td>\n",
       "      <td>3.380000e+02</td>\n",
       "      <td>4.000000e+00</td>\n",
       "      <td>1.000000e+01</td>\n",
       "      <td>0.000000e+00</td>\n",
       "      <td>0.000000e+00</td>\n",
       "      <td>0.000000e+00</td>\n",
       "      <td>0.000000e+00</td>\n",
       "      <td>0.000000e+00</td>\n",
       "      <td>0.000000e+00</td>\n",
       "      <td>0.000000e+00</td>\n",
       "    </tr>\n",
       "    <tr>\n",
       "      <th>50%</th>\n",
       "      <td>2008.0</td>\n",
       "      <td>6.000000e+00</td>\n",
       "      <td>1.600000e+01</td>\n",
       "      <td>4.000000e+00</td>\n",
       "      <td>1.545000e+03</td>\n",
       "      <td>1.510000e+03</td>\n",
       "      <td>1.715000e+03</td>\n",
       "      <td>1.705000e+03</td>\n",
       "      <td>1.543000e+03</td>\n",
       "      <td>1.160000e+02</td>\n",
       "      <td>1.160000e+02</td>\n",
       "      <td>9.000000e+01</td>\n",
       "      <td>2.400000e+01</td>\n",
       "      <td>2.400000e+01</td>\n",
       "      <td>6.060000e+02</td>\n",
       "      <td>6.000000e+00</td>\n",
       "      <td>1.400000e+01</td>\n",
       "      <td>0.000000e+00</td>\n",
       "      <td>0.000000e+00</td>\n",
       "      <td>2.000000e+00</td>\n",
       "      <td>0.000000e+00</td>\n",
       "      <td>2.000000e+00</td>\n",
       "      <td>0.000000e+00</td>\n",
       "      <td>8.000000e+00</td>\n",
       "    </tr>\n",
       "    <tr>\n",
       "      <th>75%</th>\n",
       "      <td>2008.0</td>\n",
       "      <td>9.000000e+00</td>\n",
       "      <td>2.300000e+01</td>\n",
       "      <td>6.000000e+00</td>\n",
       "      <td>1.900000e+03</td>\n",
       "      <td>1.815000e+03</td>\n",
       "      <td>2.030000e+03</td>\n",
       "      <td>2.014000e+03</td>\n",
       "      <td>3.422000e+03</td>\n",
       "      <td>1.650000e+02</td>\n",
       "      <td>1.650000e+02</td>\n",
       "      <td>1.370000e+02</td>\n",
       "      <td>5.600000e+01</td>\n",
       "      <td>5.300000e+01</td>\n",
       "      <td>9.980000e+02</td>\n",
       "      <td>8.000000e+00</td>\n",
       "      <td>2.100000e+01</td>\n",
       "      <td>0.000000e+00</td>\n",
       "      <td>0.000000e+00</td>\n",
       "      <td>2.100000e+01</td>\n",
       "      <td>0.000000e+00</td>\n",
       "      <td>1.500000e+01</td>\n",
       "      <td>0.000000e+00</td>\n",
       "      <td>3.300000e+01</td>\n",
       "    </tr>\n",
       "    <tr>\n",
       "      <th>max</th>\n",
       "      <td>2008.0</td>\n",
       "      <td>1.200000e+01</td>\n",
       "      <td>3.100000e+01</td>\n",
       "      <td>7.000000e+00</td>\n",
       "      <td>2.400000e+03</td>\n",
       "      <td>2.359000e+03</td>\n",
       "      <td>2.400000e+03</td>\n",
       "      <td>2.400000e+03</td>\n",
       "      <td>9.742000e+03</td>\n",
       "      <td>1.114000e+03</td>\n",
       "      <td>6.600000e+02</td>\n",
       "      <td>1.091000e+03</td>\n",
       "      <td>2.461000e+03</td>\n",
       "      <td>2.467000e+03</td>\n",
       "      <td>4.962000e+03</td>\n",
       "      <td>2.400000e+02</td>\n",
       "      <td>4.220000e+02</td>\n",
       "      <td>1.000000e+00</td>\n",
       "      <td>1.000000e+00</td>\n",
       "      <td>2.436000e+03</td>\n",
       "      <td>1.352000e+03</td>\n",
       "      <td>1.357000e+03</td>\n",
       "      <td>3.920000e+02</td>\n",
       "      <td>1.316000e+03</td>\n",
       "    </tr>\n",
       "  </tbody>\n",
       "</table>\n",
       "</div>"
      ],
      "text/plain": [
       "            Year         Month    DayofMonth     DayOfWeek       DepTime  \\\n",
       "count  1936758.0  1.936758e+06  1.936758e+06  1.936758e+06  1.936758e+06   \n",
       "mean      2008.0  6.111106e+00  1.575347e+01  3.984827e+00  1.518534e+03   \n",
       "std          0.0  3.482546e+00  8.776272e+00  1.995966e+00  4.504853e+02   \n",
       "min       2008.0  1.000000e+00  1.000000e+00  1.000000e+00  1.000000e+00   \n",
       "25%       2008.0  3.000000e+00  8.000000e+00  2.000000e+00  1.203000e+03   \n",
       "50%       2008.0  6.000000e+00  1.600000e+01  4.000000e+00  1.545000e+03   \n",
       "75%       2008.0  9.000000e+00  2.300000e+01  6.000000e+00  1.900000e+03   \n",
       "max       2008.0  1.200000e+01  3.100000e+01  7.000000e+00  2.400000e+03   \n",
       "\n",
       "         CRSDepTime       ArrTime    CRSArrTime     FlightNum  \\\n",
       "count  1.936758e+06  1.929648e+06  1.936758e+06  1.936758e+06   \n",
       "mean   1.467473e+03  1.610141e+03  1.634225e+03  2.184263e+03   \n",
       "std    4.247668e+02  5.481781e+02  4.646347e+02  1.944702e+03   \n",
       "min    0.000000e+00  1.000000e+00  0.000000e+00  1.000000e+00   \n",
       "25%    1.135000e+03  1.316000e+03  1.325000e+03  6.100000e+02   \n",
       "50%    1.510000e+03  1.715000e+03  1.705000e+03  1.543000e+03   \n",
       "75%    1.815000e+03  2.030000e+03  2.014000e+03  3.422000e+03   \n",
       "max    2.359000e+03  2.400000e+03  2.400000e+03  9.742000e+03   \n",
       "\n",
       "       ActualElapsedTime  CRSElapsedTime       AirTime      ArrDelay  \\\n",
       "count       1.928371e+06    1.936560e+06  1.928371e+06  1.928371e+06   \n",
       "mean        1.333059e+02    1.343027e+02  1.082771e+02  4.219988e+01   \n",
       "std         7.206007e+01    7.134144e+01  6.864261e+01  5.678472e+01   \n",
       "min         1.400000e+01   -2.500000e+01  0.000000e+00 -1.090000e+02   \n",
       "25%         8.000000e+01    8.200000e+01  5.800000e+01  9.000000e+00   \n",
       "50%         1.160000e+02    1.160000e+02  9.000000e+01  2.400000e+01   \n",
       "75%         1.650000e+02    1.650000e+02  1.370000e+02  5.600000e+01   \n",
       "max         1.114000e+03    6.600000e+02  1.091000e+03  2.461000e+03   \n",
       "\n",
       "           DepDelay      Distance        TaxiIn       TaxiOut     Cancelled  \\\n",
       "count  1.936758e+06  1.936758e+06  1.929648e+06  1.936303e+06  1.936758e+06   \n",
       "mean   4.318518e+01  7.656862e+02  6.812975e+00  1.823220e+01  3.268348e-04   \n",
       "std    5.340250e+01  5.744797e+02  5.273595e+00  1.433853e+01  1.807562e-02   \n",
       "min    6.000000e+00  1.100000e+01  0.000000e+00  0.000000e+00  0.000000e+00   \n",
       "25%    1.200000e+01  3.380000e+02  4.000000e+00  1.000000e+01  0.000000e+00   \n",
       "50%    2.400000e+01  6.060000e+02  6.000000e+00  1.400000e+01  0.000000e+00   \n",
       "75%    5.300000e+01  9.980000e+02  8.000000e+00  2.100000e+01  0.000000e+00   \n",
       "max    2.467000e+03  4.962000e+03  2.400000e+02  4.220000e+02  1.000000e+00   \n",
       "\n",
       "           Diverted  CarrierDelay  WeatherDelay      NASDelay  SecurityDelay  \\\n",
       "count  1.936758e+06  1.247488e+06  1.247488e+06  1.247488e+06   1.247488e+06   \n",
       "mean   4.003598e-03  1.917940e+01  3.703571e+00  1.502164e+01   9.013714e-02   \n",
       "std    6.314722e-02  4.354621e+01  2.149290e+01  3.383305e+01   2.022714e+00   \n",
       "min    0.000000e+00  0.000000e+00  0.000000e+00  0.000000e+00   0.000000e+00   \n",
       "25%    0.000000e+00  0.000000e+00  0.000000e+00  0.000000e+00   0.000000e+00   \n",
       "50%    0.000000e+00  2.000000e+00  0.000000e+00  2.000000e+00   0.000000e+00   \n",
       "75%    0.000000e+00  2.100000e+01  0.000000e+00  1.500000e+01   0.000000e+00   \n",
       "max    1.000000e+00  2.436000e+03  1.352000e+03  1.357000e+03   3.920000e+02   \n",
       "\n",
       "       LateAircraftDelay  \n",
       "count       1.247488e+06  \n",
       "mean        2.529647e+01  \n",
       "std         4.205486e+01  \n",
       "min         0.000000e+00  \n",
       "25%         0.000000e+00  \n",
       "50%         8.000000e+00  \n",
       "75%         3.300000e+01  \n",
       "max         1.316000e+03  "
      ]
     },
     "execution_count": 10,
     "metadata": {},
     "output_type": "execute_result"
    }
   ],
   "source": [
    "#resum estadístic de les variables numèriques\n",
    "data_frame.describe()"
   ]
  },
  {
   "cell_type": "markdown",
   "id": "9a8e436f",
   "metadata": {},
   "source": [
    "Anem a fixar-nos en les variables categòriques per veure quina ens serveix com a target. Observant el dataset, podem dir que agafarem la variable \"UniqueCarrier\" ja que ens demanen agrupar els diferents vols, i és la que ens dona els diferents noms de companyies de vols"
   ]
  },
  {
   "cell_type": "code",
   "execution_count": 11,
   "id": "20010cbd",
   "metadata": {
    "ExecuteTime": {
     "end_time": "2022-06-10T12:37:36.538040Z",
     "start_time": "2022-06-10T12:37:36.431277Z"
    }
   },
   "outputs": [
    {
     "data": {
      "text/plain": [
       "array(['WN', 'XE', 'YV', 'OH', 'OO', 'UA', 'US', 'DL', 'EV', 'F9', 'FL',\n",
       "       'HA', 'MQ', 'NW', '9E', 'AA', 'AQ', 'AS', 'B6', 'CO'], dtype=object)"
      ]
     },
     "execution_count": 11,
     "metadata": {},
     "output_type": "execute_result"
    }
   ],
   "source": [
    "data_frame[\"UniqueCarrier\"].unique()"
   ]
  },
  {
   "cell_type": "code",
   "execution_count": 12,
   "id": "3dfc21aa",
   "metadata": {
    "ExecuteTime": {
     "end_time": "2022-06-10T12:37:36.726671Z",
     "start_time": "2022-06-10T12:37:36.540744Z"
    }
   },
   "outputs": [
    {
     "data": {
      "text/plain": [
       "20"
      ]
     },
     "execution_count": 12,
     "metadata": {},
     "output_type": "execute_result"
    }
   ],
   "source": [
    "#amb això s'obté les etiquetes de la variable\n",
    "#mirem quantes etiquetes diferents tenim\n",
    "len(data_frame[\"UniqueCarrier\"].unique())"
   ]
  },
  {
   "cell_type": "code",
   "execution_count": 13,
   "id": "ac1e5b97",
   "metadata": {
    "ExecuteTime": {
     "end_time": "2022-06-10T12:37:36.900030Z",
     "start_time": "2022-06-10T12:37:36.728634Z"
    }
   },
   "outputs": [
    {
     "data": {
      "text/plain": [
       "array(['N712SW', 'N772SW', 'N428WN', ..., 'N75428', 'N75429', 'N78008'],\n",
       "      dtype=object)"
      ]
     },
     "execution_count": 13,
     "metadata": {},
     "output_type": "execute_result"
    }
   ],
   "source": [
    "#anem a explorar la resta de les 4 variables categòriques\n",
    "data_frame[\"TailNum\"].unique()"
   ]
  },
  {
   "cell_type": "code",
   "execution_count": 14,
   "id": "1bd2418b",
   "metadata": {
    "ExecuteTime": {
     "end_time": "2022-06-10T12:37:37.106920Z",
     "start_time": "2022-06-10T12:37:36.901947Z"
    }
   },
   "outputs": [
    {
     "data": {
      "text/plain": [
       "5367"
      ]
     },
     "execution_count": 14,
     "metadata": {},
     "output_type": "execute_result"
    }
   ],
   "source": [
    "len(data_frame[\"TailNum\"].unique())"
   ]
  },
  {
   "cell_type": "code",
   "execution_count": 15,
   "id": "8f0b3974",
   "metadata": {
    "ExecuteTime": {
     "end_time": "2022-06-10T12:37:37.169030Z",
     "start_time": "2022-06-10T12:37:37.108913Z"
    }
   },
   "outputs": [],
   "source": [
    "#Són masses etiquetes per utilitzar-la com a target"
   ]
  },
  {
   "cell_type": "code",
   "execution_count": 16,
   "id": "5d29f59a",
   "metadata": {
    "ExecuteTime": {
     "end_time": "2022-06-10T12:37:37.342284Z",
     "start_time": "2022-06-10T12:37:37.171025Z"
    }
   },
   "outputs": [
    {
     "data": {
      "text/plain": [
       "303"
      ]
     },
     "execution_count": 16,
     "metadata": {},
     "output_type": "execute_result"
    }
   ],
   "source": [
    "len(data_frame[\"Origin\"].unique())"
   ]
  },
  {
   "cell_type": "code",
   "execution_count": 17,
   "id": "9c2ba33f",
   "metadata": {
    "ExecuteTime": {
     "end_time": "2022-06-10T12:37:37.469679Z",
     "start_time": "2022-06-10T12:37:37.344245Z"
    }
   },
   "outputs": [
    {
     "data": {
      "text/plain": [
       "304"
      ]
     },
     "execution_count": 17,
     "metadata": {},
     "output_type": "execute_result"
    }
   ],
   "source": [
    "len(data_frame[\"Dest\"].unique())"
   ]
  },
  {
   "cell_type": "code",
   "execution_count": 18,
   "id": "4dd84df3",
   "metadata": {
    "ExecuteTime": {
     "end_time": "2022-06-10T12:37:37.613085Z",
     "start_time": "2022-06-10T12:37:37.470604Z"
    }
   },
   "outputs": [
    {
     "data": {
      "text/plain": [
       "4"
      ]
     },
     "execution_count": 18,
     "metadata": {},
     "output_type": "execute_result"
    }
   ],
   "source": [
    "len(data_frame[\"CancellationCode\"].unique())"
   ]
  },
  {
   "cell_type": "code",
   "execution_count": 19,
   "id": "2a3ecc72",
   "metadata": {
    "ExecuteTime": {
     "end_time": "2022-06-10T12:37:37.768463Z",
     "start_time": "2022-06-10T12:37:37.615078Z"
    }
   },
   "outputs": [
    {
     "data": {
      "text/plain": [
       "array(['N', 'A', 'B', 'C'], dtype=object)"
      ]
     },
     "execution_count": 19,
     "metadata": {},
     "output_type": "execute_result"
    }
   ],
   "source": [
    "data_frame[\"CancellationCode\"].unique()"
   ]
  },
  {
   "cell_type": "code",
   "execution_count": 20,
   "id": "010248bb",
   "metadata": {
    "ExecuteTime": {
     "end_time": "2022-06-10T12:37:37.943133Z",
     "start_time": "2022-06-10T12:37:37.771422Z"
    }
   },
   "outputs": [
    {
     "data": {
      "text/plain": [
       "N    1936125\n",
       "B        307\n",
       "A        246\n",
       "C         80\n",
       "Name: CancellationCode, dtype: int64"
      ]
     },
     "execution_count": 20,
     "metadata": {},
     "output_type": "execute_result"
    }
   ],
   "source": [
    "data_frame[\"CancellationCode\"].value_counts()"
   ]
  },
  {
   "cell_type": "markdown",
   "id": "c3ac3a04",
   "metadata": {},
   "source": [
    "Obervem que gairebé totes les instàncies del dataset, tenen pràcticament la mateixa etiqueta, aleshores no és recomanable  utilitzar aquesta variable com a target a la hora d'agrupar els vols del nostre dataset. La millor opció és agrupar els vols per companyia de vol (UniqueCarrier)"
   ]
  },
  {
   "cell_type": "code",
   "execution_count": 21,
   "id": "4b03806c",
   "metadata": {
    "ExecuteTime": {
     "end_time": "2022-06-10T12:37:38.243368Z",
     "start_time": "2022-06-10T12:37:37.945095Z"
    }
   },
   "outputs": [
    {
     "data": {
      "text/html": [
       "<div>\n",
       "<style scoped>\n",
       "    .dataframe tbody tr th:only-of-type {\n",
       "        vertical-align: middle;\n",
       "    }\n",
       "\n",
       "    .dataframe tbody tr th {\n",
       "        vertical-align: top;\n",
       "    }\n",
       "\n",
       "    .dataframe thead th {\n",
       "        text-align: right;\n",
       "    }\n",
       "</style>\n",
       "<table border=\"1\" class=\"dataframe\">\n",
       "  <thead>\n",
       "    <tr style=\"text-align: right;\">\n",
       "      <th></th>\n",
       "      <th>Year</th>\n",
       "      <th>Month</th>\n",
       "      <th>DayofMonth</th>\n",
       "      <th>DayOfWeek</th>\n",
       "      <th>DepTime</th>\n",
       "      <th>CRSDepTime</th>\n",
       "      <th>ArrTime</th>\n",
       "      <th>CRSArrTime</th>\n",
       "      <th>UniqueCarrier</th>\n",
       "      <th>FlightNum</th>\n",
       "      <th>ActualElapsedTime</th>\n",
       "      <th>CRSElapsedTime</th>\n",
       "      <th>AirTime</th>\n",
       "      <th>ArrDelay</th>\n",
       "      <th>DepDelay</th>\n",
       "      <th>Distance</th>\n",
       "      <th>TaxiIn</th>\n",
       "      <th>TaxiOut</th>\n",
       "      <th>Cancelled</th>\n",
       "      <th>Diverted</th>\n",
       "      <th>CarrierDelay</th>\n",
       "      <th>WeatherDelay</th>\n",
       "      <th>NASDelay</th>\n",
       "      <th>SecurityDelay</th>\n",
       "      <th>LateAircraftDelay</th>\n",
       "    </tr>\n",
       "  </thead>\n",
       "  <tbody>\n",
       "    <tr>\n",
       "      <th>0</th>\n",
       "      <td>2008</td>\n",
       "      <td>1</td>\n",
       "      <td>3</td>\n",
       "      <td>4</td>\n",
       "      <td>2003.0</td>\n",
       "      <td>1955</td>\n",
       "      <td>2211.0</td>\n",
       "      <td>2225</td>\n",
       "      <td>WN</td>\n",
       "      <td>335</td>\n",
       "      <td>128.0</td>\n",
       "      <td>150.0</td>\n",
       "      <td>116.0</td>\n",
       "      <td>-14.0</td>\n",
       "      <td>8.0</td>\n",
       "      <td>810</td>\n",
       "      <td>4.0</td>\n",
       "      <td>8.0</td>\n",
       "      <td>0</td>\n",
       "      <td>0</td>\n",
       "      <td>NaN</td>\n",
       "      <td>NaN</td>\n",
       "      <td>NaN</td>\n",
       "      <td>NaN</td>\n",
       "      <td>NaN</td>\n",
       "    </tr>\n",
       "    <tr>\n",
       "      <th>1</th>\n",
       "      <td>2008</td>\n",
       "      <td>1</td>\n",
       "      <td>3</td>\n",
       "      <td>4</td>\n",
       "      <td>754.0</td>\n",
       "      <td>735</td>\n",
       "      <td>1002.0</td>\n",
       "      <td>1000</td>\n",
       "      <td>WN</td>\n",
       "      <td>3231</td>\n",
       "      <td>128.0</td>\n",
       "      <td>145.0</td>\n",
       "      <td>113.0</td>\n",
       "      <td>2.0</td>\n",
       "      <td>19.0</td>\n",
       "      <td>810</td>\n",
       "      <td>5.0</td>\n",
       "      <td>10.0</td>\n",
       "      <td>0</td>\n",
       "      <td>0</td>\n",
       "      <td>NaN</td>\n",
       "      <td>NaN</td>\n",
       "      <td>NaN</td>\n",
       "      <td>NaN</td>\n",
       "      <td>NaN</td>\n",
       "    </tr>\n",
       "    <tr>\n",
       "      <th>2</th>\n",
       "      <td>2008</td>\n",
       "      <td>1</td>\n",
       "      <td>3</td>\n",
       "      <td>4</td>\n",
       "      <td>628.0</td>\n",
       "      <td>620</td>\n",
       "      <td>804.0</td>\n",
       "      <td>750</td>\n",
       "      <td>WN</td>\n",
       "      <td>448</td>\n",
       "      <td>96.0</td>\n",
       "      <td>90.0</td>\n",
       "      <td>76.0</td>\n",
       "      <td>14.0</td>\n",
       "      <td>8.0</td>\n",
       "      <td>515</td>\n",
       "      <td>3.0</td>\n",
       "      <td>17.0</td>\n",
       "      <td>0</td>\n",
       "      <td>0</td>\n",
       "      <td>NaN</td>\n",
       "      <td>NaN</td>\n",
       "      <td>NaN</td>\n",
       "      <td>NaN</td>\n",
       "      <td>NaN</td>\n",
       "    </tr>\n",
       "    <tr>\n",
       "      <th>3</th>\n",
       "      <td>2008</td>\n",
       "      <td>1</td>\n",
       "      <td>3</td>\n",
       "      <td>4</td>\n",
       "      <td>1829.0</td>\n",
       "      <td>1755</td>\n",
       "      <td>1959.0</td>\n",
       "      <td>1925</td>\n",
       "      <td>WN</td>\n",
       "      <td>3920</td>\n",
       "      <td>90.0</td>\n",
       "      <td>90.0</td>\n",
       "      <td>77.0</td>\n",
       "      <td>34.0</td>\n",
       "      <td>34.0</td>\n",
       "      <td>515</td>\n",
       "      <td>3.0</td>\n",
       "      <td>10.0</td>\n",
       "      <td>0</td>\n",
       "      <td>0</td>\n",
       "      <td>2.0</td>\n",
       "      <td>0.0</td>\n",
       "      <td>0.0</td>\n",
       "      <td>0.0</td>\n",
       "      <td>32.0</td>\n",
       "    </tr>\n",
       "    <tr>\n",
       "      <th>4</th>\n",
       "      <td>2008</td>\n",
       "      <td>1</td>\n",
       "      <td>3</td>\n",
       "      <td>4</td>\n",
       "      <td>1940.0</td>\n",
       "      <td>1915</td>\n",
       "      <td>2121.0</td>\n",
       "      <td>2110</td>\n",
       "      <td>WN</td>\n",
       "      <td>378</td>\n",
       "      <td>101.0</td>\n",
       "      <td>115.0</td>\n",
       "      <td>87.0</td>\n",
       "      <td>11.0</td>\n",
       "      <td>25.0</td>\n",
       "      <td>688</td>\n",
       "      <td>4.0</td>\n",
       "      <td>10.0</td>\n",
       "      <td>0</td>\n",
       "      <td>0</td>\n",
       "      <td>NaN</td>\n",
       "      <td>NaN</td>\n",
       "      <td>NaN</td>\n",
       "      <td>NaN</td>\n",
       "      <td>NaN</td>\n",
       "    </tr>\n",
       "  </tbody>\n",
       "</table>\n",
       "</div>"
      ],
      "text/plain": [
       "   Year  Month  DayofMonth  DayOfWeek  DepTime  CRSDepTime  ArrTime  \\\n",
       "0  2008      1           3          4   2003.0        1955   2211.0   \n",
       "1  2008      1           3          4    754.0         735   1002.0   \n",
       "2  2008      1           3          4    628.0         620    804.0   \n",
       "3  2008      1           3          4   1829.0        1755   1959.0   \n",
       "4  2008      1           3          4   1940.0        1915   2121.0   \n",
       "\n",
       "   CRSArrTime UniqueCarrier  FlightNum  ActualElapsedTime  CRSElapsedTime  \\\n",
       "0        2225            WN        335              128.0           150.0   \n",
       "1        1000            WN       3231              128.0           145.0   \n",
       "2         750            WN        448               96.0            90.0   \n",
       "3        1925            WN       3920               90.0            90.0   \n",
       "4        2110            WN        378              101.0           115.0   \n",
       "\n",
       "   AirTime  ArrDelay  DepDelay  Distance  TaxiIn  TaxiOut  Cancelled  \\\n",
       "0    116.0     -14.0       8.0       810     4.0      8.0          0   \n",
       "1    113.0       2.0      19.0       810     5.0     10.0          0   \n",
       "2     76.0      14.0       8.0       515     3.0     17.0          0   \n",
       "3     77.0      34.0      34.0       515     3.0     10.0          0   \n",
       "4     87.0      11.0      25.0       688     4.0     10.0          0   \n",
       "\n",
       "   Diverted  CarrierDelay  WeatherDelay  NASDelay  SecurityDelay  \\\n",
       "0         0           NaN           NaN       NaN            NaN   \n",
       "1         0           NaN           NaN       NaN            NaN   \n",
       "2         0           NaN           NaN       NaN            NaN   \n",
       "3         0           2.0           0.0       0.0            0.0   \n",
       "4         0           NaN           NaN       NaN            NaN   \n",
       "\n",
       "   LateAircraftDelay  \n",
       "0                NaN  \n",
       "1                NaN  \n",
       "2                NaN  \n",
       "3               32.0  \n",
       "4                NaN  "
      ]
     },
     "execution_count": 21,
     "metadata": {},
     "output_type": "execute_result"
    }
   ],
   "source": [
    "#podem eliminar les variables categòriques que no utilitzarem com a target\n",
    "data_frame.drop([\"CancellationCode\", \"TailNum\", \"Origin\", \"Dest\"], axis=1, inplace=True)\n",
    "data_frame.head()"
   ]
  },
  {
   "cell_type": "code",
   "execution_count": 22,
   "id": "fef1a255",
   "metadata": {
    "ExecuteTime": {
     "end_time": "2022-06-10T12:37:38.448906Z",
     "start_time": "2022-06-10T12:37:38.245363Z"
    }
   },
   "outputs": [
    {
     "data": {
      "text/plain": [
       "Year                      0\n",
       "Month                     0\n",
       "DayofMonth                0\n",
       "DayOfWeek                 0\n",
       "DepTime                   0\n",
       "CRSDepTime                0\n",
       "ArrTime                7110\n",
       "CRSArrTime                0\n",
       "UniqueCarrier             0\n",
       "FlightNum                 0\n",
       "ActualElapsedTime      8387\n",
       "CRSElapsedTime          198\n",
       "AirTime                8387\n",
       "ArrDelay               8387\n",
       "DepDelay                  0\n",
       "Distance                  0\n",
       "TaxiIn                 7110\n",
       "TaxiOut                 455\n",
       "Cancelled                 0\n",
       "Diverted                  0\n",
       "CarrierDelay         689270\n",
       "WeatherDelay         689270\n",
       "NASDelay             689270\n",
       "SecurityDelay        689270\n",
       "LateAircraftDelay    689270\n",
       "dtype: int64"
      ]
     },
     "execution_count": 22,
     "metadata": {},
     "output_type": "execute_result"
    }
   ],
   "source": [
    "#Comprovem valors nan\n",
    "data_frame.isna().sum()"
   ]
  },
  {
   "cell_type": "code",
   "execution_count": 23,
   "id": "b7509c4d",
   "metadata": {
    "ExecuteTime": {
     "end_time": "2022-06-10T12:37:38.608171Z",
     "start_time": "2022-06-10T12:37:38.450901Z"
    },
    "scrolled": true
   },
   "outputs": [],
   "source": [
    "#eliminem columnes amb nulls values\n",
    "data_frame.drop([\"CarrierDelay\", \"WeatherDelay\",\"NASDelay\",\"SecurityDelay\",\"LateAircraftDelay\"], axis=1, inplace=True)"
   ]
  },
  {
   "cell_type": "code",
   "execution_count": 24,
   "id": "4d2d7f19",
   "metadata": {
    "ExecuteTime": {
     "end_time": "2022-06-10T12:37:38.701695Z",
     "start_time": "2022-06-10T12:37:38.610164Z"
    }
   },
   "outputs": [
    {
     "data": {
      "text/html": [
       "<div>\n",
       "<style scoped>\n",
       "    .dataframe tbody tr th:only-of-type {\n",
       "        vertical-align: middle;\n",
       "    }\n",
       "\n",
       "    .dataframe tbody tr th {\n",
       "        vertical-align: top;\n",
       "    }\n",
       "\n",
       "    .dataframe thead th {\n",
       "        text-align: right;\n",
       "    }\n",
       "</style>\n",
       "<table border=\"1\" class=\"dataframe\">\n",
       "  <thead>\n",
       "    <tr style=\"text-align: right;\">\n",
       "      <th></th>\n",
       "      <th>Year</th>\n",
       "      <th>Month</th>\n",
       "      <th>DayofMonth</th>\n",
       "      <th>DayOfWeek</th>\n",
       "      <th>DepTime</th>\n",
       "      <th>CRSDepTime</th>\n",
       "      <th>ArrTime</th>\n",
       "      <th>CRSArrTime</th>\n",
       "      <th>UniqueCarrier</th>\n",
       "      <th>FlightNum</th>\n",
       "      <th>ActualElapsedTime</th>\n",
       "      <th>CRSElapsedTime</th>\n",
       "      <th>AirTime</th>\n",
       "      <th>ArrDelay</th>\n",
       "      <th>DepDelay</th>\n",
       "      <th>Distance</th>\n",
       "      <th>TaxiIn</th>\n",
       "      <th>TaxiOut</th>\n",
       "      <th>Cancelled</th>\n",
       "      <th>Diverted</th>\n",
       "    </tr>\n",
       "  </thead>\n",
       "  <tbody>\n",
       "    <tr>\n",
       "      <th>0</th>\n",
       "      <td>2008</td>\n",
       "      <td>1</td>\n",
       "      <td>3</td>\n",
       "      <td>4</td>\n",
       "      <td>2003.0</td>\n",
       "      <td>1955</td>\n",
       "      <td>2211.0</td>\n",
       "      <td>2225</td>\n",
       "      <td>WN</td>\n",
       "      <td>335</td>\n",
       "      <td>128.0</td>\n",
       "      <td>150.0</td>\n",
       "      <td>116.0</td>\n",
       "      <td>-14.0</td>\n",
       "      <td>8.0</td>\n",
       "      <td>810</td>\n",
       "      <td>4.0</td>\n",
       "      <td>8.0</td>\n",
       "      <td>0</td>\n",
       "      <td>0</td>\n",
       "    </tr>\n",
       "    <tr>\n",
       "      <th>1</th>\n",
       "      <td>2008</td>\n",
       "      <td>1</td>\n",
       "      <td>3</td>\n",
       "      <td>4</td>\n",
       "      <td>754.0</td>\n",
       "      <td>735</td>\n",
       "      <td>1002.0</td>\n",
       "      <td>1000</td>\n",
       "      <td>WN</td>\n",
       "      <td>3231</td>\n",
       "      <td>128.0</td>\n",
       "      <td>145.0</td>\n",
       "      <td>113.0</td>\n",
       "      <td>2.0</td>\n",
       "      <td>19.0</td>\n",
       "      <td>810</td>\n",
       "      <td>5.0</td>\n",
       "      <td>10.0</td>\n",
       "      <td>0</td>\n",
       "      <td>0</td>\n",
       "    </tr>\n",
       "    <tr>\n",
       "      <th>2</th>\n",
       "      <td>2008</td>\n",
       "      <td>1</td>\n",
       "      <td>3</td>\n",
       "      <td>4</td>\n",
       "      <td>628.0</td>\n",
       "      <td>620</td>\n",
       "      <td>804.0</td>\n",
       "      <td>750</td>\n",
       "      <td>WN</td>\n",
       "      <td>448</td>\n",
       "      <td>96.0</td>\n",
       "      <td>90.0</td>\n",
       "      <td>76.0</td>\n",
       "      <td>14.0</td>\n",
       "      <td>8.0</td>\n",
       "      <td>515</td>\n",
       "      <td>3.0</td>\n",
       "      <td>17.0</td>\n",
       "      <td>0</td>\n",
       "      <td>0</td>\n",
       "    </tr>\n",
       "    <tr>\n",
       "      <th>3</th>\n",
       "      <td>2008</td>\n",
       "      <td>1</td>\n",
       "      <td>3</td>\n",
       "      <td>4</td>\n",
       "      <td>1829.0</td>\n",
       "      <td>1755</td>\n",
       "      <td>1959.0</td>\n",
       "      <td>1925</td>\n",
       "      <td>WN</td>\n",
       "      <td>3920</td>\n",
       "      <td>90.0</td>\n",
       "      <td>90.0</td>\n",
       "      <td>77.0</td>\n",
       "      <td>34.0</td>\n",
       "      <td>34.0</td>\n",
       "      <td>515</td>\n",
       "      <td>3.0</td>\n",
       "      <td>10.0</td>\n",
       "      <td>0</td>\n",
       "      <td>0</td>\n",
       "    </tr>\n",
       "    <tr>\n",
       "      <th>4</th>\n",
       "      <td>2008</td>\n",
       "      <td>1</td>\n",
       "      <td>3</td>\n",
       "      <td>4</td>\n",
       "      <td>1940.0</td>\n",
       "      <td>1915</td>\n",
       "      <td>2121.0</td>\n",
       "      <td>2110</td>\n",
       "      <td>WN</td>\n",
       "      <td>378</td>\n",
       "      <td>101.0</td>\n",
       "      <td>115.0</td>\n",
       "      <td>87.0</td>\n",
       "      <td>11.0</td>\n",
       "      <td>25.0</td>\n",
       "      <td>688</td>\n",
       "      <td>4.0</td>\n",
       "      <td>10.0</td>\n",
       "      <td>0</td>\n",
       "      <td>0</td>\n",
       "    </tr>\n",
       "  </tbody>\n",
       "</table>\n",
       "</div>"
      ],
      "text/plain": [
       "   Year  Month  DayofMonth  DayOfWeek  DepTime  CRSDepTime  ArrTime  \\\n",
       "0  2008      1           3          4   2003.0        1955   2211.0   \n",
       "1  2008      1           3          4    754.0         735   1002.0   \n",
       "2  2008      1           3          4    628.0         620    804.0   \n",
       "3  2008      1           3          4   1829.0        1755   1959.0   \n",
       "4  2008      1           3          4   1940.0        1915   2121.0   \n",
       "\n",
       "   CRSArrTime UniqueCarrier  FlightNum  ActualElapsedTime  CRSElapsedTime  \\\n",
       "0        2225            WN        335              128.0           150.0   \n",
       "1        1000            WN       3231              128.0           145.0   \n",
       "2         750            WN        448               96.0            90.0   \n",
       "3        1925            WN       3920               90.0            90.0   \n",
       "4        2110            WN        378              101.0           115.0   \n",
       "\n",
       "   AirTime  ArrDelay  DepDelay  Distance  TaxiIn  TaxiOut  Cancelled  Diverted  \n",
       "0    116.0     -14.0       8.0       810     4.0      8.0          0         0  \n",
       "1    113.0       2.0      19.0       810     5.0     10.0          0         0  \n",
       "2     76.0      14.0       8.0       515     3.0     17.0          0         0  \n",
       "3     77.0      34.0      34.0       515     3.0     10.0          0         0  \n",
       "4     87.0      11.0      25.0       688     4.0     10.0          0         0  "
      ]
     },
     "execution_count": 24,
     "metadata": {},
     "output_type": "execute_result"
    }
   ],
   "source": [
    "data_frame.head()"
   ]
  },
  {
   "cell_type": "code",
   "execution_count": 25,
   "id": "44485aef",
   "metadata": {
    "ExecuteTime": {
     "end_time": "2022-06-10T12:37:38.938593Z",
     "start_time": "2022-06-10T12:37:38.703688Z"
    }
   },
   "outputs": [
    {
     "data": {
      "text/plain": [
       "Year                    0\n",
       "Month                   0\n",
       "DayofMonth              0\n",
       "DayOfWeek               0\n",
       "DepTime                 0\n",
       "CRSDepTime              0\n",
       "ArrTime              7110\n",
       "CRSArrTime              0\n",
       "UniqueCarrier           0\n",
       "FlightNum               0\n",
       "ActualElapsedTime    8387\n",
       "CRSElapsedTime        198\n",
       "AirTime              8387\n",
       "ArrDelay             8387\n",
       "DepDelay                0\n",
       "Distance                0\n",
       "TaxiIn               7110\n",
       "TaxiOut               455\n",
       "Cancelled               0\n",
       "Diverted                0\n",
       "dtype: int64"
      ]
     },
     "execution_count": 25,
     "metadata": {},
     "output_type": "execute_result"
    }
   ],
   "source": [
    "data_frame.isna().sum()"
   ]
  },
  {
   "cell_type": "code",
   "execution_count": 26,
   "id": "3da8065f",
   "metadata": {
    "ExecuteTime": {
     "end_time": "2022-06-10T12:37:39.304623Z",
     "start_time": "2022-06-10T12:37:38.940595Z"
    }
   },
   "outputs": [],
   "source": [
    "data_frame.dropna(subset = [\"ArrDelay\",\"ArrTime\", \"ActualElapsedTime\", \"CRSElapsedTime\", \"AirTime\",\"TaxiIn\", \"TaxiOut\"], inplace = True)"
   ]
  },
  {
   "cell_type": "code",
   "execution_count": 27,
   "id": "a43e270e",
   "metadata": {
    "ExecuteTime": {
     "end_time": "2022-06-10T12:37:39.463565Z",
     "start_time": "2022-06-10T12:37:39.306539Z"
    }
   },
   "outputs": [
    {
     "data": {
      "text/plain": [
       "Year                 0\n",
       "Month                0\n",
       "DayofMonth           0\n",
       "DayOfWeek            0\n",
       "DepTime              0\n",
       "CRSDepTime           0\n",
       "ArrTime              0\n",
       "CRSArrTime           0\n",
       "UniqueCarrier        0\n",
       "FlightNum            0\n",
       "ActualElapsedTime    0\n",
       "CRSElapsedTime       0\n",
       "AirTime              0\n",
       "ArrDelay             0\n",
       "DepDelay             0\n",
       "Distance             0\n",
       "TaxiIn               0\n",
       "TaxiOut              0\n",
       "Cancelled            0\n",
       "Diverted             0\n",
       "dtype: int64"
      ]
     },
     "execution_count": 27,
     "metadata": {},
     "output_type": "execute_result"
    }
   ],
   "source": [
    "data_frame.isna().sum()"
   ]
  },
  {
   "cell_type": "markdown",
   "id": "ea11a73a",
   "metadata": {},
   "source": [
    "L'estandarització d'un conjunt de dades és un requisit comú per a molts models d'aprenentatge automàtic. Normalment, això es fa eliminant la mitjana i escalant a la variança. Tanmateix, els valors atípics(outliers) sovint poden influir negativament en la mitjana/variança de la mostra. En aquests casos, la mediana i el rang interquartil sovint donen millors resultats"
   ]
  },
  {
   "cell_type": "markdown",
   "id": "3c8a6137",
   "metadata": {},
   "source": [
    "Utilitzem Label-Encoding per convertir la nostra variable categòrica en valors numèrics, ho fem en la variable que agafem com a target, ja que l'algoritme treballa amb valors numèrics."
   ]
  },
  {
   "cell_type": "code",
   "execution_count": 28,
   "id": "3f614ee6",
   "metadata": {
    "ExecuteTime": {
     "end_time": "2022-06-10T12:37:39.797644Z",
     "start_time": "2022-06-10T12:37:39.465522Z"
    }
   },
   "outputs": [
    {
     "data": {
      "text/html": [
       "<div>\n",
       "<style scoped>\n",
       "    .dataframe tbody tr th:only-of-type {\n",
       "        vertical-align: middle;\n",
       "    }\n",
       "\n",
       "    .dataframe tbody tr th {\n",
       "        vertical-align: top;\n",
       "    }\n",
       "\n",
       "    .dataframe thead th {\n",
       "        text-align: right;\n",
       "    }\n",
       "</style>\n",
       "<table border=\"1\" class=\"dataframe\">\n",
       "  <thead>\n",
       "    <tr style=\"text-align: right;\">\n",
       "      <th></th>\n",
       "      <th>Year</th>\n",
       "      <th>Month</th>\n",
       "      <th>DayofMonth</th>\n",
       "      <th>DayOfWeek</th>\n",
       "      <th>DepTime</th>\n",
       "      <th>CRSDepTime</th>\n",
       "      <th>ArrTime</th>\n",
       "      <th>CRSArrTime</th>\n",
       "      <th>UniqueCarrier</th>\n",
       "      <th>FlightNum</th>\n",
       "      <th>ActualElapsedTime</th>\n",
       "      <th>CRSElapsedTime</th>\n",
       "      <th>AirTime</th>\n",
       "      <th>ArrDelay</th>\n",
       "      <th>DepDelay</th>\n",
       "      <th>Distance</th>\n",
       "      <th>TaxiIn</th>\n",
       "      <th>TaxiOut</th>\n",
       "      <th>Cancelled</th>\n",
       "      <th>Diverted</th>\n",
       "    </tr>\n",
       "  </thead>\n",
       "  <tbody>\n",
       "    <tr>\n",
       "      <th>0</th>\n",
       "      <td>2008</td>\n",
       "      <td>1</td>\n",
       "      <td>3</td>\n",
       "      <td>4</td>\n",
       "      <td>2003.0</td>\n",
       "      <td>1955</td>\n",
       "      <td>2211.0</td>\n",
       "      <td>2225</td>\n",
       "      <td>WN</td>\n",
       "      <td>335</td>\n",
       "      <td>128.0</td>\n",
       "      <td>150.0</td>\n",
       "      <td>116.0</td>\n",
       "      <td>-14.0</td>\n",
       "      <td>8.0</td>\n",
       "      <td>810</td>\n",
       "      <td>4.0</td>\n",
       "      <td>8.0</td>\n",
       "      <td>0</td>\n",
       "      <td>0</td>\n",
       "    </tr>\n",
       "    <tr>\n",
       "      <th>1</th>\n",
       "      <td>2008</td>\n",
       "      <td>1</td>\n",
       "      <td>3</td>\n",
       "      <td>4</td>\n",
       "      <td>754.0</td>\n",
       "      <td>735</td>\n",
       "      <td>1002.0</td>\n",
       "      <td>1000</td>\n",
       "      <td>WN</td>\n",
       "      <td>3231</td>\n",
       "      <td>128.0</td>\n",
       "      <td>145.0</td>\n",
       "      <td>113.0</td>\n",
       "      <td>2.0</td>\n",
       "      <td>19.0</td>\n",
       "      <td>810</td>\n",
       "      <td>5.0</td>\n",
       "      <td>10.0</td>\n",
       "      <td>0</td>\n",
       "      <td>0</td>\n",
       "    </tr>\n",
       "    <tr>\n",
       "      <th>2</th>\n",
       "      <td>2008</td>\n",
       "      <td>1</td>\n",
       "      <td>3</td>\n",
       "      <td>4</td>\n",
       "      <td>628.0</td>\n",
       "      <td>620</td>\n",
       "      <td>804.0</td>\n",
       "      <td>750</td>\n",
       "      <td>WN</td>\n",
       "      <td>448</td>\n",
       "      <td>96.0</td>\n",
       "      <td>90.0</td>\n",
       "      <td>76.0</td>\n",
       "      <td>14.0</td>\n",
       "      <td>8.0</td>\n",
       "      <td>515</td>\n",
       "      <td>3.0</td>\n",
       "      <td>17.0</td>\n",
       "      <td>0</td>\n",
       "      <td>0</td>\n",
       "    </tr>\n",
       "    <tr>\n",
       "      <th>3</th>\n",
       "      <td>2008</td>\n",
       "      <td>1</td>\n",
       "      <td>3</td>\n",
       "      <td>4</td>\n",
       "      <td>1829.0</td>\n",
       "      <td>1755</td>\n",
       "      <td>1959.0</td>\n",
       "      <td>1925</td>\n",
       "      <td>WN</td>\n",
       "      <td>3920</td>\n",
       "      <td>90.0</td>\n",
       "      <td>90.0</td>\n",
       "      <td>77.0</td>\n",
       "      <td>34.0</td>\n",
       "      <td>34.0</td>\n",
       "      <td>515</td>\n",
       "      <td>3.0</td>\n",
       "      <td>10.0</td>\n",
       "      <td>0</td>\n",
       "      <td>0</td>\n",
       "    </tr>\n",
       "    <tr>\n",
       "      <th>4</th>\n",
       "      <td>2008</td>\n",
       "      <td>1</td>\n",
       "      <td>3</td>\n",
       "      <td>4</td>\n",
       "      <td>1940.0</td>\n",
       "      <td>1915</td>\n",
       "      <td>2121.0</td>\n",
       "      <td>2110</td>\n",
       "      <td>WN</td>\n",
       "      <td>378</td>\n",
       "      <td>101.0</td>\n",
       "      <td>115.0</td>\n",
       "      <td>87.0</td>\n",
       "      <td>11.0</td>\n",
       "      <td>25.0</td>\n",
       "      <td>688</td>\n",
       "      <td>4.0</td>\n",
       "      <td>10.0</td>\n",
       "      <td>0</td>\n",
       "      <td>0</td>\n",
       "    </tr>\n",
       "  </tbody>\n",
       "</table>\n",
       "</div>"
      ],
      "text/plain": [
       "   Year  Month  DayofMonth  DayOfWeek  DepTime  CRSDepTime  ArrTime  \\\n",
       "0  2008      1           3          4   2003.0        1955   2211.0   \n",
       "1  2008      1           3          4    754.0         735   1002.0   \n",
       "2  2008      1           3          4    628.0         620    804.0   \n",
       "3  2008      1           3          4   1829.0        1755   1959.0   \n",
       "4  2008      1           3          4   1940.0        1915   2121.0   \n",
       "\n",
       "   CRSArrTime UniqueCarrier  FlightNum  ActualElapsedTime  CRSElapsedTime  \\\n",
       "0        2225            WN        335              128.0           150.0   \n",
       "1        1000            WN       3231              128.0           145.0   \n",
       "2         750            WN        448               96.0            90.0   \n",
       "3        1925            WN       3920               90.0            90.0   \n",
       "4        2110            WN        378              101.0           115.0   \n",
       "\n",
       "   AirTime  ArrDelay  DepDelay  Distance  TaxiIn  TaxiOut  Cancelled  Diverted  \n",
       "0    116.0     -14.0       8.0       810     4.0      8.0          0         0  \n",
       "1    113.0       2.0      19.0       810     5.0     10.0          0         0  \n",
       "2     76.0      14.0       8.0       515     3.0     17.0          0         0  \n",
       "3     77.0      34.0      34.0       515     3.0     10.0          0         0  \n",
       "4     87.0      11.0      25.0       688     4.0     10.0          0         0  "
      ]
     },
     "execution_count": 28,
     "metadata": {},
     "output_type": "execute_result"
    }
   ],
   "source": [
    "#agafarem un amostra simple per poder treballar millor, ja que tenim masses entrades i el procès s'enlenteix molt\n",
    " \n",
    "data_frame_sample = data_frame.sample(frac=0.25, random_state=8)\n",
    "\n",
    "data_frame.head()"
   ]
  },
  {
   "cell_type": "code",
   "execution_count": 29,
   "id": "629c9055",
   "metadata": {
    "ExecuteTime": {
     "end_time": "2022-06-10T12:37:39.987421Z",
     "start_time": "2022-06-10T12:37:39.805626Z"
    }
   },
   "outputs": [],
   "source": [
    "from sklearn.preprocessing import LabelEncoder\n",
    "\n",
    "X= data_frame_sample\n",
    "y= data_frame_sample[\"UniqueCarrier\"]\n",
    "\n",
    "labelencoder = LabelEncoder()\n",
    "\n",
    "X[\"UniqueCarrier\"] = labelencoder.fit_transform(X[\"UniqueCarrier\"])\n",
    "\n",
    "y = labelencoder.transform(y)"
   ]
  },
  {
   "cell_type": "code",
   "execution_count": 30,
   "id": "fa2b3800",
   "metadata": {
    "ExecuteTime": {
     "end_time": "2022-06-10T12:37:40.034953Z",
     "start_time": "2022-06-10T12:37:39.989437Z"
    }
   },
   "outputs": [
    {
     "name": "stdout",
     "output_type": "stream",
     "text": [
      "<class 'pandas.core.frame.DataFrame'>\n",
      "Int64Index: 482093 entries, 266691 to 468427\n",
      "Data columns (total 20 columns):\n",
      " #   Column             Non-Null Count   Dtype  \n",
      "---  ------             --------------   -----  \n",
      " 0   Year               482093 non-null  int64  \n",
      " 1   Month              482093 non-null  int64  \n",
      " 2   DayofMonth         482093 non-null  int64  \n",
      " 3   DayOfWeek          482093 non-null  int64  \n",
      " 4   DepTime            482093 non-null  float64\n",
      " 5   CRSDepTime         482093 non-null  int64  \n",
      " 6   ArrTime            482093 non-null  float64\n",
      " 7   CRSArrTime         482093 non-null  int64  \n",
      " 8   UniqueCarrier      482093 non-null  int32  \n",
      " 9   FlightNum          482093 non-null  int64  \n",
      " 10  ActualElapsedTime  482093 non-null  float64\n",
      " 11  CRSElapsedTime     482093 non-null  float64\n",
      " 12  AirTime            482093 non-null  float64\n",
      " 13  ArrDelay           482093 non-null  float64\n",
      " 14  DepDelay           482093 non-null  float64\n",
      " 15  Distance           482093 non-null  int64  \n",
      " 16  TaxiIn             482093 non-null  float64\n",
      " 17  TaxiOut            482093 non-null  float64\n",
      " 18  Cancelled          482093 non-null  int64  \n",
      " 19  Diverted           482093 non-null  int64  \n",
      "dtypes: float64(9), int32(1), int64(10)\n",
      "memory usage: 75.4 MB\n"
     ]
    }
   ],
   "source": [
    "X.info()"
   ]
  },
  {
   "cell_type": "code",
   "execution_count": 31,
   "id": "07bba244",
   "metadata": {
    "ExecuteTime": {
     "end_time": "2022-06-10T12:37:40.097967Z",
     "start_time": "2022-06-10T12:37:40.036979Z"
    }
   },
   "outputs": [
    {
     "data": {
      "text/html": [
       "<div>\n",
       "<style scoped>\n",
       "    .dataframe tbody tr th:only-of-type {\n",
       "        vertical-align: middle;\n",
       "    }\n",
       "\n",
       "    .dataframe tbody tr th {\n",
       "        vertical-align: top;\n",
       "    }\n",
       "\n",
       "    .dataframe thead th {\n",
       "        text-align: right;\n",
       "    }\n",
       "</style>\n",
       "<table border=\"1\" class=\"dataframe\">\n",
       "  <thead>\n",
       "    <tr style=\"text-align: right;\">\n",
       "      <th></th>\n",
       "      <th>Year</th>\n",
       "      <th>Month</th>\n",
       "      <th>DayofMonth</th>\n",
       "      <th>DayOfWeek</th>\n",
       "      <th>DepTime</th>\n",
       "      <th>CRSDepTime</th>\n",
       "      <th>ArrTime</th>\n",
       "      <th>CRSArrTime</th>\n",
       "      <th>UniqueCarrier</th>\n",
       "      <th>FlightNum</th>\n",
       "      <th>ActualElapsedTime</th>\n",
       "      <th>CRSElapsedTime</th>\n",
       "      <th>AirTime</th>\n",
       "      <th>ArrDelay</th>\n",
       "      <th>DepDelay</th>\n",
       "      <th>Distance</th>\n",
       "      <th>TaxiIn</th>\n",
       "      <th>TaxiOut</th>\n",
       "      <th>Cancelled</th>\n",
       "      <th>Diverted</th>\n",
       "    </tr>\n",
       "  </thead>\n",
       "  <tbody>\n",
       "    <tr>\n",
       "      <th>266691</th>\n",
       "      <td>2008</td>\n",
       "      <td>2</td>\n",
       "      <td>19</td>\n",
       "      <td>2</td>\n",
       "      <td>1644.0</td>\n",
       "      <td>1630</td>\n",
       "      <td>1906.0</td>\n",
       "      <td>1828</td>\n",
       "      <td>15</td>\n",
       "      <td>1585</td>\n",
       "      <td>202.0</td>\n",
       "      <td>178.0</td>\n",
       "      <td>169.0</td>\n",
       "      <td>38.0</td>\n",
       "      <td>14.0</td>\n",
       "      <td>1012</td>\n",
       "      <td>21.0</td>\n",
       "      <td>12.0</td>\n",
       "      <td>0</td>\n",
       "      <td>0</td>\n",
       "    </tr>\n",
       "    <tr>\n",
       "      <th>1026797</th>\n",
       "      <td>2008</td>\n",
       "      <td>6</td>\n",
       "      <td>9</td>\n",
       "      <td>1</td>\n",
       "      <td>1921.0</td>\n",
       "      <td>1910</td>\n",
       "      <td>2002.0</td>\n",
       "      <td>2001</td>\n",
       "      <td>12</td>\n",
       "      <td>755</td>\n",
       "      <td>101.0</td>\n",
       "      <td>111.0</td>\n",
       "      <td>82.0</td>\n",
       "      <td>1.0</td>\n",
       "      <td>11.0</td>\n",
       "      <td>528</td>\n",
       "      <td>5.0</td>\n",
       "      <td>14.0</td>\n",
       "      <td>0</td>\n",
       "      <td>0</td>\n",
       "    </tr>\n",
       "    <tr>\n",
       "      <th>431390</th>\n",
       "      <td>2008</td>\n",
       "      <td>3</td>\n",
       "      <td>11</td>\n",
       "      <td>2</td>\n",
       "      <td>1430.0</td>\n",
       "      <td>1237</td>\n",
       "      <td>1610.0</td>\n",
       "      <td>1429</td>\n",
       "      <td>13</td>\n",
       "      <td>5660</td>\n",
       "      <td>100.0</td>\n",
       "      <td>112.0</td>\n",
       "      <td>87.0</td>\n",
       "      <td>101.0</td>\n",
       "      <td>113.0</td>\n",
       "      <td>515</td>\n",
       "      <td>1.0</td>\n",
       "      <td>12.0</td>\n",
       "      <td>0</td>\n",
       "      <td>0</td>\n",
       "    </tr>\n",
       "    <tr>\n",
       "      <th>408904</th>\n",
       "      <td>2008</td>\n",
       "      <td>3</td>\n",
       "      <td>29</td>\n",
       "      <td>6</td>\n",
       "      <td>1526.0</td>\n",
       "      <td>1505</td>\n",
       "      <td>1627.0</td>\n",
       "      <td>1610</td>\n",
       "      <td>17</td>\n",
       "      <td>2617</td>\n",
       "      <td>61.0</td>\n",
       "      <td>65.0</td>\n",
       "      <td>50.0</td>\n",
       "      <td>17.0</td>\n",
       "      <td>21.0</td>\n",
       "      <td>304</td>\n",
       "      <td>2.0</td>\n",
       "      <td>9.0</td>\n",
       "      <td>0</td>\n",
       "      <td>0</td>\n",
       "    </tr>\n",
       "    <tr>\n",
       "      <th>1536341</th>\n",
       "      <td>2008</td>\n",
       "      <td>10</td>\n",
       "      <td>20</td>\n",
       "      <td>1</td>\n",
       "      <td>1833.0</td>\n",
       "      <td>1640</td>\n",
       "      <td>1924.0</td>\n",
       "      <td>1735</td>\n",
       "      <td>17</td>\n",
       "      <td>509</td>\n",
       "      <td>51.0</td>\n",
       "      <td>55.0</td>\n",
       "      <td>41.0</td>\n",
       "      <td>109.0</td>\n",
       "      <td>113.0</td>\n",
       "      <td>189</td>\n",
       "      <td>3.0</td>\n",
       "      <td>7.0</td>\n",
       "      <td>0</td>\n",
       "      <td>0</td>\n",
       "    </tr>\n",
       "  </tbody>\n",
       "</table>\n",
       "</div>"
      ],
      "text/plain": [
       "         Year  Month  DayofMonth  DayOfWeek  DepTime  CRSDepTime  ArrTime  \\\n",
       "266691   2008      2          19          2   1644.0        1630   1906.0   \n",
       "1026797  2008      6           9          1   1921.0        1910   2002.0   \n",
       "431390   2008      3          11          2   1430.0        1237   1610.0   \n",
       "408904   2008      3          29          6   1526.0        1505   1627.0   \n",
       "1536341  2008     10          20          1   1833.0        1640   1924.0   \n",
       "\n",
       "         CRSArrTime  UniqueCarrier  FlightNum  ActualElapsedTime  \\\n",
       "266691         1828             15       1585              202.0   \n",
       "1026797        2001             12        755              101.0   \n",
       "431390         1429             13       5660              100.0   \n",
       "408904         1610             17       2617               61.0   \n",
       "1536341        1735             17        509               51.0   \n",
       "\n",
       "         CRSElapsedTime  AirTime  ArrDelay  DepDelay  Distance  TaxiIn  \\\n",
       "266691            178.0    169.0      38.0      14.0      1012    21.0   \n",
       "1026797           111.0     82.0       1.0      11.0       528     5.0   \n",
       "431390            112.0     87.0     101.0     113.0       515     1.0   \n",
       "408904             65.0     50.0      17.0      21.0       304     2.0   \n",
       "1536341            55.0     41.0     109.0     113.0       189     3.0   \n",
       "\n",
       "         TaxiOut  Cancelled  Diverted  \n",
       "266691      12.0          0         0  \n",
       "1026797     14.0          0         0  \n",
       "431390      12.0          0         0  \n",
       "408904       9.0          0         0  \n",
       "1536341      7.0          0         0  "
      ]
     },
     "execution_count": 31,
     "metadata": {},
     "output_type": "execute_result"
    }
   ],
   "source": [
    "X.head()"
   ]
  },
  {
   "cell_type": "code",
   "execution_count": 32,
   "id": "39a5baee",
   "metadata": {
    "ExecuteTime": {
     "end_time": "2022-06-10T12:37:40.208343Z",
     "start_time": "2022-06-10T12:37:40.099932Z"
    }
   },
   "outputs": [
    {
     "data": {
      "text/plain": [
       "17    94007\n",
       "1     47513\n",
       "11    35321\n",
       "15    35207\n",
       "14    33061\n",
       "6     28253\n",
       "18    25930\n",
       "5     24907\n",
       "16    24456\n",
       "7     20454\n",
       "12    19757\n",
       "9     17939\n",
       "19    16823\n",
       "4     13718\n",
       "13    13102\n",
       "0     12809\n",
       "3      9814\n",
       "8      7021\n",
       "10     1808\n",
       "2       193\n",
       "Name: UniqueCarrier, dtype: int64"
      ]
     },
     "execution_count": 32,
     "metadata": {},
     "output_type": "execute_result"
    }
   ],
   "source": [
    "X.UniqueCarrier.value_counts()"
   ]
  },
  {
   "cell_type": "code",
   "execution_count": 33,
   "id": "6f858435",
   "metadata": {
    "ExecuteTime": {
     "end_time": "2022-06-10T12:37:40.301437Z",
     "start_time": "2022-06-10T12:37:40.214321Z"
    }
   },
   "outputs": [],
   "source": [
    "#Feature Scaling: normalitzarem totes les variables aplicant MinMaxScaler abans d'aplicar l'algorisme K-means\n",
    "cols= X.columns"
   ]
  },
  {
   "cell_type": "code",
   "execution_count": 34,
   "id": "00839eaa",
   "metadata": {
    "ExecuteTime": {
     "end_time": "2022-06-10T12:37:40.585679Z",
     "start_time": "2022-06-10T12:37:40.309326Z"
    }
   },
   "outputs": [],
   "source": [
    "from sklearn.preprocessing import MinMaxScaler\n",
    "\n",
    "scaler = MinMaxScaler()\n",
    "\n",
    "X = scaler.fit_transform(X)"
   ]
  },
  {
   "cell_type": "code",
   "execution_count": 35,
   "id": "425bfc88",
   "metadata": {
    "ExecuteTime": {
     "end_time": "2022-06-10T12:37:40.617595Z",
     "start_time": "2022-06-10T12:37:40.586647Z"
    }
   },
   "outputs": [
    {
     "data": {
      "text/html": [
       "<div>\n",
       "<style scoped>\n",
       "    .dataframe tbody tr th:only-of-type {\n",
       "        vertical-align: middle;\n",
       "    }\n",
       "\n",
       "    .dataframe tbody tr th {\n",
       "        vertical-align: top;\n",
       "    }\n",
       "\n",
       "    .dataframe thead tr th {\n",
       "        text-align: left;\n",
       "    }\n",
       "</style>\n",
       "<table border=\"1\" class=\"dataframe\">\n",
       "  <thead>\n",
       "    <tr>\n",
       "      <th></th>\n",
       "      <th>Year</th>\n",
       "      <th>Month</th>\n",
       "      <th>DayofMonth</th>\n",
       "      <th>DayOfWeek</th>\n",
       "      <th>DepTime</th>\n",
       "      <th>CRSDepTime</th>\n",
       "      <th>ArrTime</th>\n",
       "      <th>CRSArrTime</th>\n",
       "      <th>UniqueCarrier</th>\n",
       "      <th>FlightNum</th>\n",
       "      <th>ActualElapsedTime</th>\n",
       "      <th>CRSElapsedTime</th>\n",
       "      <th>AirTime</th>\n",
       "      <th>ArrDelay</th>\n",
       "      <th>DepDelay</th>\n",
       "      <th>Distance</th>\n",
       "      <th>TaxiIn</th>\n",
       "      <th>TaxiOut</th>\n",
       "      <th>Cancelled</th>\n",
       "      <th>Diverted</th>\n",
       "    </tr>\n",
       "  </thead>\n",
       "  <tbody>\n",
       "    <tr>\n",
       "      <th>0</th>\n",
       "      <td>0.0</td>\n",
       "      <td>0.090909</td>\n",
       "      <td>0.600000</td>\n",
       "      <td>0.166667</td>\n",
       "      <td>0.684869</td>\n",
       "      <td>0.690840</td>\n",
       "      <td>0.794081</td>\n",
       "      <td>0.774905</td>\n",
       "      <td>0.789474</td>\n",
       "      <td>0.162628</td>\n",
       "      <td>0.241290</td>\n",
       "      <td>0.292217</td>\n",
       "      <td>0.259202</td>\n",
       "      <td>0.064770</td>\n",
       "      <td>0.005175</td>\n",
       "      <td>0.198945</td>\n",
       "      <td>0.087500</td>\n",
       "      <td>0.028436</td>\n",
       "      <td>0.0</td>\n",
       "      <td>0.0</td>\n",
       "    </tr>\n",
       "    <tr>\n",
       "      <th>1</th>\n",
       "      <td>0.0</td>\n",
       "      <td>0.454545</td>\n",
       "      <td>0.266667</td>\n",
       "      <td>0.000000</td>\n",
       "      <td>0.800333</td>\n",
       "      <td>0.809584</td>\n",
       "      <td>0.834098</td>\n",
       "      <td>0.848241</td>\n",
       "      <td>0.631579</td>\n",
       "      <td>0.077413</td>\n",
       "      <td>0.110968</td>\n",
       "      <td>0.193833</td>\n",
       "      <td>0.125767</td>\n",
       "      <td>0.042373</td>\n",
       "      <td>0.003234</td>\n",
       "      <td>0.100791</td>\n",
       "      <td>0.020833</td>\n",
       "      <td>0.033175</td>\n",
       "      <td>0.0</td>\n",
       "      <td>0.0</td>\n",
       "    </tr>\n",
       "    <tr>\n",
       "      <th>2</th>\n",
       "      <td>0.0</td>\n",
       "      <td>0.181818</td>\n",
       "      <td>0.333333</td>\n",
       "      <td>0.166667</td>\n",
       "      <td>0.595665</td>\n",
       "      <td>0.524173</td>\n",
       "      <td>0.670696</td>\n",
       "      <td>0.605765</td>\n",
       "      <td>0.684211</td>\n",
       "      <td>0.581006</td>\n",
       "      <td>0.109677</td>\n",
       "      <td>0.195301</td>\n",
       "      <td>0.133436</td>\n",
       "      <td>0.102906</td>\n",
       "      <td>0.069211</td>\n",
       "      <td>0.098155</td>\n",
       "      <td>0.004167</td>\n",
       "      <td>0.028436</td>\n",
       "      <td>0.0</td>\n",
       "      <td>0.0</td>\n",
       "    </tr>\n",
       "    <tr>\n",
       "      <th>3</th>\n",
       "      <td>0.0</td>\n",
       "      <td>0.181818</td>\n",
       "      <td>0.933333</td>\n",
       "      <td>0.833333</td>\n",
       "      <td>0.635682</td>\n",
       "      <td>0.637829</td>\n",
       "      <td>0.677782</td>\n",
       "      <td>0.682493</td>\n",
       "      <td>0.894737</td>\n",
       "      <td>0.268583</td>\n",
       "      <td>0.059355</td>\n",
       "      <td>0.126285</td>\n",
       "      <td>0.076687</td>\n",
       "      <td>0.052058</td>\n",
       "      <td>0.009702</td>\n",
       "      <td>0.055364</td>\n",
       "      <td>0.008333</td>\n",
       "      <td>0.021327</td>\n",
       "      <td>0.0</td>\n",
       "      <td>0.0</td>\n",
       "    </tr>\n",
       "    <tr>\n",
       "      <th>4</th>\n",
       "      <td>0.0</td>\n",
       "      <td>0.818182</td>\n",
       "      <td>0.633333</td>\n",
       "      <td>0.000000</td>\n",
       "      <td>0.763652</td>\n",
       "      <td>0.695081</td>\n",
       "      <td>0.801584</td>\n",
       "      <td>0.735481</td>\n",
       "      <td>0.894737</td>\n",
       "      <td>0.052156</td>\n",
       "      <td>0.046452</td>\n",
       "      <td>0.111601</td>\n",
       "      <td>0.062883</td>\n",
       "      <td>0.107748</td>\n",
       "      <td>0.069211</td>\n",
       "      <td>0.032042</td>\n",
       "      <td>0.012500</td>\n",
       "      <td>0.016588</td>\n",
       "      <td>0.0</td>\n",
       "      <td>0.0</td>\n",
       "    </tr>\n",
       "  </tbody>\n",
       "</table>\n",
       "</div>"
      ],
      "text/plain": [
       "  Year     Month DayofMonth DayOfWeek   DepTime CRSDepTime   ArrTime  \\\n",
       "0  0.0  0.090909   0.600000  0.166667  0.684869   0.690840  0.794081   \n",
       "1  0.0  0.454545   0.266667  0.000000  0.800333   0.809584  0.834098   \n",
       "2  0.0  0.181818   0.333333  0.166667  0.595665   0.524173  0.670696   \n",
       "3  0.0  0.181818   0.933333  0.833333  0.635682   0.637829  0.677782   \n",
       "4  0.0  0.818182   0.633333  0.000000  0.763652   0.695081  0.801584   \n",
       "\n",
       "  CRSArrTime UniqueCarrier FlightNum ActualElapsedTime CRSElapsedTime  \\\n",
       "0   0.774905      0.789474  0.162628          0.241290       0.292217   \n",
       "1   0.848241      0.631579  0.077413          0.110968       0.193833   \n",
       "2   0.605765      0.684211  0.581006          0.109677       0.195301   \n",
       "3   0.682493      0.894737  0.268583          0.059355       0.126285   \n",
       "4   0.735481      0.894737  0.052156          0.046452       0.111601   \n",
       "\n",
       "    AirTime  ArrDelay  DepDelay  Distance    TaxiIn   TaxiOut Cancelled  \\\n",
       "0  0.259202  0.064770  0.005175  0.198945  0.087500  0.028436       0.0   \n",
       "1  0.125767  0.042373  0.003234  0.100791  0.020833  0.033175       0.0   \n",
       "2  0.133436  0.102906  0.069211  0.098155  0.004167  0.028436       0.0   \n",
       "3  0.076687  0.052058  0.009702  0.055364  0.008333  0.021327       0.0   \n",
       "4  0.062883  0.107748  0.069211  0.032042  0.012500  0.016588       0.0   \n",
       "\n",
       "  Diverted  \n",
       "0      0.0  \n",
       "1      0.0  \n",
       "2      0.0  \n",
       "3      0.0  \n",
       "4      0.0  "
      ]
     },
     "execution_count": 35,
     "metadata": {},
     "output_type": "execute_result"
    }
   ],
   "source": [
    "X=pd.DataFrame(X, columns=[cols])\n",
    "X.head()"
   ]
  },
  {
   "cell_type": "markdown",
   "id": "ba4e7b97",
   "metadata": {},
   "source": [
    "Un cop tenim normalitzades totes les dates, ja podem aplicar el model K-means\n",
    "Començarem amb 2 clusters\n",
    "Agafarem una mostra del nostre dataset ja que tenim masses dades i el procès s'enlenteix molt"
   ]
  },
  {
   "cell_type": "code",
   "execution_count": 36,
   "id": "40512551",
   "metadata": {
    "ExecuteTime": {
     "end_time": "2022-06-10T12:37:46.062623Z",
     "start_time": "2022-06-10T12:37:40.619594Z"
    }
   },
   "outputs": [
    {
     "data": {
      "text/plain": [
       "KMeans(init='random', n_clusters=2, random_state=0)"
      ]
     },
     "execution_count": 36,
     "metadata": {},
     "output_type": "execute_result"
    }
   ],
   "source": [
    "from sklearn.cluster import KMeans\n",
    "\n",
    "kmeans = KMeans(init=\"random\", n_clusters=2, n_init=10, max_iter=300,random_state=0) \n",
    "\n",
    "kmeans.fit(X)"
   ]
  },
  {
   "cell_type": "code",
   "execution_count": 37,
   "id": "383de508",
   "metadata": {
    "ExecuteTime": {
     "end_time": "2022-06-10T12:37:46.077584Z",
     "start_time": "2022-06-10T12:37:46.064619Z"
    },
    "scrolled": true
   },
   "outputs": [
    {
     "data": {
      "text/plain": [
       "array([[0.        , 0.46142162, 0.50123431, 0.76378562, 0.65383039,\n",
       "        0.64208171, 0.68935002, 0.71419829, 0.58734277, 0.21975076,\n",
       "        0.15272628, 0.22806971, 0.16620968, 0.06777066, 0.02452117,\n",
       "        0.1492843 , 0.02864573, 0.04293645, 0.        , 0.        ],\n",
       "       [0.        , 0.46735697, 0.48175449, 0.19605677, 0.60852731,\n",
       "        0.59929913, 0.64893773, 0.66715376, 0.58453137, 0.22927433,\n",
       "        0.15173397, 0.2268378 , 0.16502546, 0.06684787, 0.02348991,\n",
       "        0.14747844, 0.0281572 , 0.04322157, 0.        , 0.        ]])"
      ]
     },
     "execution_count": 37,
     "metadata": {},
     "output_type": "execute_result"
    }
   ],
   "source": [
    "#anem a avaluar el model\n",
    "kmeans.cluster_centers_"
   ]
  },
  {
   "cell_type": "markdown",
   "id": "680e26c8",
   "metadata": {},
   "source": [
    "L'algoritme KMeans agrupa les dades intentant separar mostres en n grups de variàncies iguals, minimitzant un criteri conegut com a inèrcia o suma de quadrats dins del clúster\n",
    "La inèrcia, o el criteri de la suma de quadrats dins del clúster, es pot reconèixer com a mesura de la coherència interna dels clústers\n",
    "L'algoritme de k-means divideix un conjunt de N mostres X en K grups C disjunts, cadascun descrit per la mitjana j de les mostres del clúster\n",
    "Les mitjanes s'anomenen comunament els centroides del clúster\n",
    "\n",
    "L'algoritme K-means té com a objectiu triar els centroides que minimitzin la inèrcia, o la suma dins del clúster del criteri quadrat\n",
    "\n",
    "La inèrcia no és una mètrica normalitzada. Els valors més baixos d'inèrcia són millors i zero és òptim."
   ]
  },
  {
   "cell_type": "markdown",
   "id": "1eff6647",
   "metadata": {},
   "source": [
    "Les estadístiques amb el SSE més baix estan disponibles com a atributs de kmeans després d'ajustar el model .fit()\n",
    "The lowest SSE value (kmeans.inertia_)\n",
    "Final locations of the centroid (kmeans.cluster_centers_)\n",
    "The number of iterations required to converge (kmeans.n_iter_)"
   ]
  },
  {
   "cell_type": "code",
   "execution_count": 38,
   "id": "f0978457",
   "metadata": {
    "ExecuteTime": {
     "end_time": "2022-06-10T12:37:46.156438Z",
     "start_time": "2022-06-10T12:37:46.081572Z"
    }
   },
   "outputs": [
    {
     "data": {
      "text/plain": [
       "269242.51002855966"
      ]
     },
     "execution_count": 38,
     "metadata": {},
     "output_type": "execute_result"
    }
   ],
   "source": [
    "#inèrcia: com menor sigui la inèrcia del model, millor s'ajustarà el model\n",
    "kmeans.inertia_"
   ]
  },
  {
   "cell_type": "markdown",
   "id": "7886cb7a",
   "metadata": {},
   "source": [
    "Podem veure que el model ens dona una inèrcia molt alta. Amb el que no tenim un bon model, anem a avaluar-lo per veure com el podem millorar"
   ]
  },
  {
   "cell_type": "code",
   "execution_count": 39,
   "id": "b3c0898d",
   "metadata": {
    "ExecuteTime": {
     "end_time": "2022-06-10T12:37:46.265015Z",
     "start_time": "2022-06-10T12:37:46.159428Z"
    }
   },
   "outputs": [
    {
     "data": {
      "text/plain": [
       "array([1, 1, 1, ..., 0, 1, 1])"
      ]
     },
     "execution_count": 39,
     "metadata": {},
     "output_type": "execute_result"
    }
   ],
   "source": [
    "labels = kmeans.labels_\n",
    "labels"
   ]
  },
  {
   "cell_type": "code",
   "execution_count": 40,
   "id": "d004cc7d",
   "metadata": {
    "ExecuteTime": {
     "end_time": "2022-06-10T12:37:47.254819Z",
     "start_time": "2022-06-10T12:37:46.268995Z"
    }
   },
   "outputs": [
    {
     "name": "stdout",
     "output_type": "stream",
     "text": [
      "Result: 28934 de 482093 mostres estan correctament etiquetades\n"
     ]
    }
   ],
   "source": [
    "# comprovem quantes mostres estan correctament etiquetades\n",
    "correct_labels = sum(y == labels)\n",
    "\n",
    "print(\"Result: %d de %d mostres estan correctament etiquetades\" % (correct_labels, y.size))                  "
   ]
  },
  {
   "cell_type": "code",
   "execution_count": 41,
   "id": "319eca42",
   "metadata": {
    "ExecuteTime": {
     "end_time": "2022-06-10T12:37:47.411397Z",
     "start_time": "2022-06-10T12:37:47.257282Z"
    },
    "scrolled": true
   },
   "outputs": [
    {
     "name": "stdout",
     "output_type": "stream",
     "text": [
      "Accuracy score: 0.06\n"
     ]
    }
   ],
   "source": [
    "print('Accuracy score: {0:0.2f}'. format(correct_labels/float(y.size)))"
   ]
  },
  {
   "cell_type": "code",
   "execution_count": 42,
   "id": "f75086f4",
   "metadata": {
    "ExecuteTime": {
     "end_time": "2022-06-10T12:37:47.507403Z",
     "start_time": "2022-06-10T12:37:47.418378Z"
    }
   },
   "outputs": [],
   "source": [
    "#Obtenim una precisió de classificació molt baixa del 6% pel nostre model no supervisat"
   ]
  },
  {
   "cell_type": "code",
   "execution_count": 43,
   "id": "fbcd54d2",
   "metadata": {
    "ExecuteTime": {
     "end_time": "2022-06-10T12:41:54.017789Z",
     "start_time": "2022-06-10T12:37:47.515348Z"
    }
   },
   "outputs": [
    {
     "data": {
      "image/png": "[encoded data removed]",
      "text/plain": [
       "<Figure size 432x288 with 1 Axes>"
      ]
     },
     "metadata": {
      "needs_background": "light"
     },
     "output_type": "display_data"
    }
   ],
   "source": [
    "#utilitzem el mètode Elbow per trobar quin seria el nombre de clusters més òptim\n",
    "\n",
    "sse = []\n",
    "for i in range(1, 11):\n",
    "    kmeans = KMeans(n_clusters = i, init = 'k-means++', max_iter = 300, n_init = 10, random_state = 0)\n",
    "    kmeans.fit(X)\n",
    "    sse.append(kmeans.inertia_)\n",
    "plt.plot(range(1, 11), sse)\n",
    "plt.title(\"Elbow Method\")\n",
    "plt.xlabel(\"Number of clusters\")\n",
    "plt.ylabel(\"sse\")\n",
    "plt.show()"
   ]
  },
  {
   "cell_type": "code",
   "execution_count": 44,
   "id": "6e66e569",
   "metadata": {
    "ExecuteTime": {
     "end_time": "2022-06-10T12:41:55.309451Z",
     "start_time": "2022-06-10T12:41:54.020517Z"
    }
   },
   "outputs": [
    {
     "data": {
      "text/plain": [
       "4"
      ]
     },
     "execution_count": 44,
     "metadata": {},
     "output_type": "execute_result"
    }
   ],
   "source": [
    "#Determinar el punt del colze a la corba SSE no sempre és senzill, com ara en el nostre cas \n",
    "#Si teniu problemes per triar el punt de colze de la corba, podeu utilitzar un paquet Python, kneed, per \n",
    "#identificar el punt de colze de manera programàtica.\n",
    "\n",
    "from kneed import KneeLocator\n",
    "\n",
    "kl = KneeLocator(range(1, 11), sse, curve=\"convex\", direction=\"decreasing\")\n",
    "\n",
    "kl.elbow"
   ]
  },
  {
   "cell_type": "code",
   "execution_count": 45,
   "id": "90cd0bba",
   "metadata": {
    "ExecuteTime": {
     "end_time": "2022-06-10T12:42:08.292832Z",
     "start_time": "2022-06-10T12:41:55.315431Z"
    }
   },
   "outputs": [
    {
     "name": "stdout",
     "output_type": "stream",
     "text": [
      "Inercia:  222174.81531377335\n",
      "Result: 10083 de 482093 mostres estan correctament etiquetades\n",
      "Accuracy score: 0.02\n"
     ]
    }
   ],
   "source": [
    "#ens dona que el colze està en 4 clusters... anem a provar el model amb n_clusters = 4 que seria el òptim\n",
    "\n",
    "kmeans = KMeans(init=\"random\", n_clusters=4, n_init=10, max_iter=300, random_state=0)\n",
    "\n",
    "kmeans.fit(X)\n",
    "\n",
    "kmeans.cluster_centers_\n",
    "\n",
    "print(\"Inercia: \", kmeans.inertia_)\n",
    "\n",
    "# check how many of the samples were correctly labeled\n",
    "labels = kmeans.labels_\n",
    "\n",
    "correct_labels = sum(y == labels)\n",
    "print(\"Result: %d de %d mostres estan correctament etiquetades\" % (correct_labels, y.size))\n",
    "print('Accuracy score: {0:0.2f}'. format(correct_labels/float(y.size)))"
   ]
  },
  {
   "cell_type": "markdown",
   "id": "5821c6de",
   "metadata": {},
   "source": [
    "Obtenim una precisió de classificació més baixa que amb 2 clusters, del 2% enlloc del 6%, i una inèrcia una mica més baixa \n",
    "però massa alta encara"
   ]
  },
  {
   "cell_type": "code",
   "execution_count": 46,
   "id": "f650acbd",
   "metadata": {
    "ExecuteTime": {
     "end_time": "2022-06-10T12:42:34.702026Z",
     "start_time": "2022-06-10T12:42:08.294827Z"
    }
   },
   "outputs": [
    {
     "name": "stdout",
     "output_type": "stream",
     "text": [
      "Inercia:  198566.12420341896\n",
      "Result: 23427 de 482093 mostres estan correctament etiquetades\n",
      "Accuracy score: 0.05\n"
     ]
    }
   ],
   "source": [
    "#anem a provar el model amb 6 clusters\n",
    "kmeans = KMeans(init=\"random\", n_clusters=6, n_init=10, max_iter=300, random_state=0)\n",
    "\n",
    "kmeans.fit(X)\n",
    "\n",
    "kmeans.cluster_centers_\n",
    "\n",
    "print(\"Inercia: \", kmeans.inertia_)\n",
    "\n",
    "# check how many of the samples were correctly labeled\n",
    "labels = kmeans.labels_\n",
    "\n",
    "correct_labels = sum(y == labels)\n",
    "print(\"Result: %d de %d mostres estan correctament etiquetades\" % (correct_labels, y.size))\n",
    "print('Accuracy score: {0:0.2f}'. format(correct_labels/float(y.size)))"
   ]
  },
  {
   "cell_type": "markdown",
   "id": "fd4ec391",
   "metadata": {
    "ExecuteTime": {
     "end_time": "2022-06-10T12:42:34.717435Z",
     "start_time": "2022-06-10T12:42:34.702026Z"
    }
   },
   "source": [
    "Obtenim una precisió de classificació més baixa que amb 2 clusters, del 5% enlloc del 6%, i una inèrcia bastant més baixa \n",
    "però massa alta encara"
   ]
  },
  {
   "cell_type": "code",
   "execution_count": 66,
   "id": "7a0dfdd3",
   "metadata": {
    "ExecuteTime": {
     "end_time": "2022-06-10T20:26:53.710022Z",
     "start_time": "2022-06-10T20:10:12.573709Z"
    }
   },
   "outputs": [
    {
     "data": {
      "image/png": "[encoded data removed]",
      "text/plain": [
       "<Figure size 432x288 with 1 Axes>"
      ]
     },
     "metadata": {
      "needs_background": "light"
     },
     "output_type": "display_data"
    }
   ],
   "source": [
    "#com que tenim una target amb 20 classes, i veiem que la precisió que obtenim és molt baixa...buscarem a veure si el colze\n",
    "#està a un valor més alt del q ens ha donat en el rang de 1 a 11!\n",
    "#utilitzem el mètode Elbow per trobar quin seria el nombre de clusters més òptim\n",
    "\n",
    "sse = []\n",
    "for i in range(1, 21):\n",
    "    kmeans = KMeans(n_clusters = i, init = 'k-means++', max_iter = 300, n_init = 10, random_state = 0)\n",
    "    kmeans.fit(X)\n",
    "    sse.append(kmeans.inertia_)\n",
    "plt.plot(range(1, 21), sse)\n",
    "plt.title(\"Elbow Method\")\n",
    "plt.xlabel(\"Number of clusters\")\n",
    "plt.ylabel(\"sse\")\n",
    "plt.show()"
   ]
  },
  {
   "cell_type": "code",
   "execution_count": 67,
   "id": "35d8db51",
   "metadata": {
    "ExecuteTime": {
     "end_time": "2022-06-10T20:26:53.761068Z",
     "start_time": "2022-06-10T20:26:53.712525Z"
    }
   },
   "outputs": [
    {
     "data": {
      "text/plain": [
       "6"
      ]
     },
     "execution_count": 67,
     "metadata": {},
     "output_type": "execute_result"
    }
   ],
   "source": [
    "from kneed import KneeLocator\n",
    "\n",
    "kl = KneeLocator(range(1, 21), sse, curve=\"convex\", direction=\"decreasing\")\n",
    "\n",
    "kl.elbow"
   ]
  },
  {
   "cell_type": "code",
   "execution_count": 68,
   "id": "05607d5f",
   "metadata": {
    "ExecuteTime": {
     "end_time": "2022-06-10T20:40:08.238307Z",
     "start_time": "2022-06-10T20:39:35.090784Z"
    }
   },
   "outputs": [
    {
     "name": "stdout",
     "output_type": "stream",
     "text": [
      "Inercia:  181496.13660030143\n",
      "Result: 14521 de 482093 mostres estan correctament etiquetades\n",
      "Accuracy score: 0.03\n"
     ]
    }
   ],
   "source": [
    "#anem a provar el model amb 8 clusters\n",
    "kmeans = KMeans(init=\"random\", n_clusters=8, n_init=10, max_iter=300, random_state=0)\n",
    "\n",
    "kmeans.fit(X)\n",
    "\n",
    "kmeans.cluster_centers_\n",
    "\n",
    "print(\"Inercia: \", kmeans.inertia_)\n",
    "\n",
    "# check how many of the samples were correctly labeled\n",
    "labels = kmeans.labels_\n",
    "\n",
    "correct_labels = sum(y == labels)\n",
    "print(\"Result: %d de %d mostres estan correctament etiquetades\" % (correct_labels, y.size))\n",
    "print('Accuracy score: {0:0.2f}'. format(correct_labels/float(y.size)))"
   ]
  },
  {
   "cell_type": "markdown",
   "id": "94e67415",
   "metadata": {},
   "source": [
    "El silhouette coefficient és una mesura de la cohesió i la separació del clúster\n",
    "Els valors oscil·len entre -1 i 1. Els nombres més grans indiquen que les mostres estan més a prop dels seus clusters que d'altres clusters"
   ]
  },
  {
   "cell_type": "code",
   "execution_count": null,
   "id": "bd969787",
   "metadata": {
    "ExecuteTime": {
     "end_time": "2022-06-10T21:21:35.249984Z",
     "start_time": "2022-06-10T20:49:11.619613Z"
    }
   },
   "outputs": [],
   "source": [
    "#Llistat de coeficients per a cada K\n",
    "silhouette_coefficients = []\n",
    "\n",
    "for k in range(2, 11):\n",
    "    kmeans = KMeans(n_clusters = k, **kmeans_kwargs)\n",
    "    kmeans.fit(X)\n",
    "    score = silhouette_score(X, kmeans.labels_)\n",
    "    silhouette_coefficients.append(score)"
   ]
  },
  {
   "cell_type": "code",
   "execution_count": null,
   "id": "a13c8ab4",
   "metadata": {
    "ExecuteTime": {
     "end_time": "2022-06-10T11:26:33.638320Z",
     "start_time": "2022-06-10T11:26:33.638320Z"
    }
   },
   "outputs": [],
   "source": [
    "plt.style.use(\"fivethirtyeight\")\n",
    "plt.plot(range(2, 11), silhouette_coefficients)\n",
    "plt.xticks(range(2, 11))\n",
    "plt.xlabel(\"Number of Clusters\")\n",
    "plt.ylabel(\"Silhouette Coefficient\")\n",
    "plt.show()"
   ]
  },
  {
   "cell_type": "code",
   "execution_count": null,
   "id": "e1807d61",
   "metadata": {},
   "outputs": [],
   "source": [
    "#no he aconseguit obtenir el gràfic dels coefficients de silhouette, ni el llistat de coeficients per tema de lentitut de\n",
    "#procès de l'ordinador... es queda estona calculant i es penja el notebook!"
   ]
  },
  {
   "cell_type": "markdown",
   "id": "47bad6ee",
   "metadata": {},
   "source": [
    "El gràfic de les puntuacions mitjanes de Silhouette per a cada k mostraria quina és la millor opció per a k, el punt de puntuació màxima!"
   ]
  },
  {
   "cell_type": "markdown",
   "id": "ccd3fd9a",
   "metadata": {},
   "source": [
    "### Ex2: Agrupa els diferents vols utilitzant l'algorisme de clustering jeràrquic"
   ]
  },
  {
   "cell_type": "markdown",
   "id": "70ef4934",
   "metadata": {},
   "source": [
    "### Ex3: Calcula el rendiment del clustering mitjançant un paràmetre com pot ser silhouette"
   ]
  },
  {
   "cell_type": "markdown",
   "id": "86d86909",
   "metadata": {},
   "source": [
    "Aquesta part està feta al final de l'exercici 1"
   ]
  }
 ],
 "metadata": {
  "kernelspec": {
   "display_name": "Python 3 (ipykernel)",
   "language": "python",
   "name": "python3"
  },
  "language_info": {
   "codemirror_mode": {
    "name": "ipython",
    "version": 3
   },
   "file_extension": ".py",
   "mimetype": "text/x-python",
   "name": "python",
   "nbconvert_exporter": "python",
   "pygments_lexer": "ipython3",
   "version": "3.9.7"
  },
  "latex_envs": {
   "LaTeX_envs_menu_present": true,
   "autoclose": false,
   "autocomplete": true,
   "bibliofile": "biblio.bib",
   "cite_by": "apalike",
   "current_citInitial": 1,
   "eqLabelWithNumbers": true,
   "eqNumInitial": 1,
   "hotkeys": {
    "equation": "Ctrl-E",
    "itemize": "Ctrl-I"
   },
   "labels_anchors": false,
   "latex_user_defs": false,
   "report_style_numbering": false,
   "user_envs_cfg": false
  }
 },
 "nbformat": 4,
 "nbformat_minor": 5
}
